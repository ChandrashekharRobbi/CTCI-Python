{
 "cells": [
  {
   "cell_type": "code",
   "execution_count": 8,
   "id": "bd5b5323-6803-4660-82a2-b306092bee33",
   "metadata": {
    "tags": []
   },
   "outputs": [
    {
     "name": "stdout",
     "output_type": "stream",
     "text": [
      "Note that after executing new function your next cell will automatically converted to markdown cell :)\n"
     ]
    }
   ],
   "source": [
    "%run imp_personal.py\n",
    "z = MyFunction()"
   ]
  },
  {
   "cell_type": "markdown",
   "id": "8320365a-56f6-49e9-8048-19e33ece175a",
   "metadata": {},
   "source": [
    "# Arrays\n",
    "\n",
    "## Time Complexity\n",
    "|Operations|Worst Case|Average Case|\n",
    "|:------|:--------:|:-------:|\n",
    "|Insertion|$O(n)$|$θ(n)$|\n",
    "|Deletion|$O(n)$|$θ(n)$|\n",
    "|Searching|$O(n)$|$θ(n)$|\n",
    "|Access|$O(1)$|$θ(1)$|\n",
    "\n",
    "## Space Complexity:\n",
    "Worst Case --> $O(n)$"
   ]
  },
  {
   "cell_type": "code",
   "execution_count": 10,
   "id": "241f804b-4e2f-4fc0-859b-89b601211338",
   "metadata": {
    "tags": []
   },
   "outputs": [
    {
     "name": "stdout",
     "output_type": "stream",
     "text": [
      "Successfully added to the comment list\n"
     ]
    }
   ],
   "source": [
    "z.new(\"Is Unique()\")"
   ]
  },
  {
   "cell_type": "markdown",
   "id": "6bfaf763-59ff-4624-804e-cae1cd997c43",
   "metadata": {},
   "source": [
    "## Is Unique"
   ]
  },
  {
   "cell_type": "code",
   "execution_count": 11,
   "id": "50a1ccd6-aa21-43a2-9270-fa24f91483fc",
   "metadata": {
    "tags": []
   },
   "outputs": [],
   "source": [
    "s = \"klmnkhg\""
   ]
  },
  {
   "cell_type": "code",
   "execution_count": 17,
   "id": "01cf40fb-5717-49ff-9597-4f74a5819c03",
   "metadata": {
    "tags": []
   },
   "outputs": [],
   "source": [
    "def isUnique(s):\n",
    "    arr = []\n",
    "    for i in s:\n",
    "        if i not in arr:\n",
    "            arr.append(i)\n",
    "        else:\n",
    "            return False\n",
    "    return True\n",
    "\n",
    "# Time Complexity will be O(n)\n",
    "# Space Complexity will be O(n)\n"
   ]
  },
  {
   "cell_type": "code",
   "execution_count": 18,
   "id": "123e601b-329a-488d-8d58-8694f1a12486",
   "metadata": {
    "tags": []
   },
   "outputs": [
    {
     "data": {
      "text/plain": [
       "False"
      ]
     },
     "execution_count": 18,
     "metadata": {},
     "output_type": "execute_result"
    }
   ],
   "source": [
    "isUnique(s)"
   ]
  },
  {
   "cell_type": "code",
   "execution_count": 19,
   "id": "44691f9c-b7aa-4585-86b2-f1984a3a4773",
   "metadata": {
    "tags": []
   },
   "outputs": [
    {
     "data": {
      "text/plain": [
       "True"
      ]
     },
     "execution_count": 19,
     "metadata": {},
     "output_type": "execute_result"
    }
   ],
   "source": [
    "isUnique(\"kljhg\")"
   ]
  },
  {
   "cell_type": "code",
   "execution_count": 20,
   "id": "7c38737e-8441-413a-84e6-b0f6d2ee6060",
   "metadata": {
    "tags": []
   },
   "outputs": [],
   "source": [
    "# Let's try by using hash Table\n",
    "def isUniqueWithHash(s):\n",
    "    mp = {}\n",
    "    for i in s:\n",
    "        if i not in mp:\n",
    "            m[i] = 1\n",
    "        else:\n",
    "            return False\n",
    "    return True"
   ]
  },
  {
   "cell_type": "code",
   "execution_count": 21,
   "id": "7b5347cc-76b7-4e4f-af2d-ebd9cc8e2e35",
   "metadata": {
    "tags": []
   },
   "outputs": [
    {
     "ename": "NameError",
     "evalue": "name 'h' is not defined",
     "output_type": "error",
     "traceback": [
      "\u001b[1;31m---------------------------------------------------------------------------\u001b[0m",
      "\u001b[1;31mNameError\u001b[0m                                 Traceback (most recent call last)",
      "Cell \u001b[1;32mIn[21], line 1\u001b[0m\n\u001b[1;32m----> 1\u001b[0m \u001b[43misUniqueWithHash\u001b[49m\u001b[43m(\u001b[49m\u001b[43ms\u001b[49m\u001b[43m)\u001b[49m\n",
      "Cell \u001b[1;32mIn[20], line 6\u001b[0m, in \u001b[0;36misUniqueWithHash\u001b[1;34m(s)\u001b[0m\n\u001b[0;32m      4\u001b[0m \u001b[38;5;28;01mfor\u001b[39;00m i \u001b[38;5;129;01min\u001b[39;00m s:\n\u001b[0;32m      5\u001b[0m     \u001b[38;5;28;01mif\u001b[39;00m i \u001b[38;5;129;01mnot\u001b[39;00m \u001b[38;5;129;01min\u001b[39;00m mp:\n\u001b[1;32m----> 6\u001b[0m         \u001b[43mh\u001b[49m[i] \u001b[38;5;241m=\u001b[39m \u001b[38;5;241m1\u001b[39m\n\u001b[0;32m      7\u001b[0m     \u001b[38;5;28;01melse\u001b[39;00m:\n\u001b[0;32m      8\u001b[0m         \u001b[38;5;28;01mreturn\u001b[39;00m \u001b[38;5;28;01mFalse\u001b[39;00m\n",
      "\u001b[1;31mNameError\u001b[0m: name 'h' is not defined"
     ]
    }
   ],
   "source": [
    "isUniqueWithHash(s)"
   ]
  },
  {
   "cell_type": "code",
   "execution_count": null,
   "id": "05abfde3-1130-4a14-a4c5-4a622849a06c",
   "metadata": {},
   "outputs": [],
   "source": []
  }
 ],
 "metadata": {
  "kernelspec": {
   "display_name": "Python 3 (ipykernel)",
   "language": "python",
   "name": "python3"
  },
  "language_info": {
   "codemirror_mode": {
    "name": "ipython",
    "version": 3
   },
   "file_extension": ".py",
   "mimetype": "text/x-python",
   "name": "python",
   "nbconvert_exporter": "python",
   "pygments_lexer": "ipython3",
   "version": "3.10.10"
  }
 },
 "nbformat": 4,
 "nbformat_minor": 5
}
