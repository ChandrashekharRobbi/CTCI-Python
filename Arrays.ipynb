{
 "cells": [
  {
   "cell_type": "code",
   "execution_count": 1,
   "id": "bd5b5323-6803-4660-82a2-b306092bee33",
   "metadata": {
    "tags": []
   },
   "outputs": [
    {
     "name": "stdout",
     "output_type": "stream",
     "text": [
      "Note that after executing new function your next cell will automatically converted to markdown cell :)\n"
     ]
    }
   ],
   "source": [
    "%run imp_personal.py\n",
    "z = MyFunction()"
   ]
  },
  {
   "cell_type": "markdown",
   "id": "8320365a-56f6-49e9-8048-19e33ece175a",
   "metadata": {},
   "source": [
    "# Arrays\n",
    "\n",
    "## Time Complexity\n",
    "|Operations|Worst Case|Average Case|\n",
    "|:------|:--------:|:-------:|\n",
    "|Insertion|$O(n)$|$θ(n)$|\n",
    "|Deletion|$O(n)$|$θ(n)$|\n",
    "|Searching|$O(n)$|$θ(n)$|\n",
    "|Access|$O(1)$|$θ(1)$|\n",
    "\n",
    "## Space Complexity:\n",
    "Worst Case --> $O(n)$"
   ]
  },
  {
   "cell_type": "code",
   "execution_count": 2,
   "id": "241f804b-4e2f-4fc0-859b-89b601211338",
   "metadata": {
    "tags": []
   },
   "outputs": [
    {
     "name": "stdout",
     "output_type": "stream",
     "text": [
      "Successfully added to the comment list\n"
     ]
    }
   ],
   "source": [
    "z.new(\"Is Unique()\")"
   ]
  },
  {
   "cell_type": "markdown",
   "id": "6bfaf763-59ff-4624-804e-cae1cd997c43",
   "metadata": {},
   "source": [
    "## Is Unique"
   ]
  },
  {
   "cell_type": "code",
   "execution_count": 3,
   "id": "50a1ccd6-aa21-43a2-9270-fa24f91483fc",
   "metadata": {
    "tags": []
   },
   "outputs": [],
   "source": [
    "s = \"klmnkhg\""
   ]
  },
  {
   "cell_type": "code",
   "execution_count": 4,
   "id": "01cf40fb-5717-49ff-9597-4f74a5819c03",
   "metadata": {
    "tags": []
   },
   "outputs": [],
   "source": [
    "def isUnique(s):\n",
    "    arr = []\n",
    "    for i in s:\n",
    "        if i not in arr:\n",
    "            arr.append(i)\n",
    "        else:\n",
    "            return False\n",
    "    return True\n",
    "\n",
    "# Time Complexity will be O(n)\n",
    "# Space Complexity will be O(n)\n"
   ]
  },
  {
   "cell_type": "code",
   "execution_count": 5,
   "id": "123e601b-329a-488d-8d58-8694f1a12486",
   "metadata": {
    "tags": []
   },
   "outputs": [
    {
     "data": {
      "text/plain": [
       "False"
      ]
     },
     "execution_count": 5,
     "metadata": {},
     "output_type": "execute_result"
    }
   ],
   "source": [
    "isUnique(s)"
   ]
  },
  {
   "cell_type": "code",
   "execution_count": 6,
   "id": "44691f9c-b7aa-4585-86b2-f1984a3a4773",
   "metadata": {
    "tags": []
   },
   "outputs": [
    {
     "data": {
      "text/plain": [
       "True"
      ]
     },
     "execution_count": 6,
     "metadata": {},
     "output_type": "execute_result"
    }
   ],
   "source": [
    "isUnique(\"kljhg\")"
   ]
  },
  {
   "cell_type": "markdown",
   "id": "6b6d2fde-fb30-4a5d-b19c-cea087fd177d",
   "metadata": {},
   "source": [
    "### By using hash Table"
   ]
  },
  {
   "cell_type": "code",
   "execution_count": 7,
   "id": "7c38737e-8441-413a-84e6-b0f6d2ee6060",
   "metadata": {
    "tags": []
   },
   "outputs": [],
   "source": [
    "def isUniqueWithHash(s):\n",
    "    mp = {}\n",
    "    for i in s:\n",
    "        if i not in mp:\n",
    "            mp[i] = 1\n",
    "        else:\n",
    "            return False\n",
    "    return True"
   ]
  },
  {
   "cell_type": "code",
   "execution_count": 8,
   "id": "7b5347cc-76b7-4e4f-af2d-ebd9cc8e2e35",
   "metadata": {
    "tags": []
   },
   "outputs": [
    {
     "data": {
      "text/plain": [
       "False"
      ]
     },
     "execution_count": 8,
     "metadata": {},
     "output_type": "execute_result"
    }
   ],
   "source": [
    "isUniqueWithHash(s)"
   ]
  },
  {
   "cell_type": "code",
   "execution_count": 9,
   "id": "05abfde3-1130-4a14-a4c5-4a622849a06c",
   "metadata": {
    "tags": []
   },
   "outputs": [
    {
     "data": {
      "text/plain": [
       "True"
      ]
     },
     "execution_count": 9,
     "metadata": {},
     "output_type": "execute_result"
    }
   ],
   "source": [
    "isUniqueWithHash(\"lkjhg\")"
   ]
  },
  {
   "cell_type": "markdown",
   "id": "1ff4c24b-5b6f-4a8e-b7a9-701b98415bc0",
   "metadata": {},
   "source": [
    "### `isUnique()` without using any DATA STRUCTURES"
   ]
  },
  {
   "cell_type": "code",
   "execution_count": 10,
   "id": "b924df1a-6e03-4be9-a597-c78831b4e443",
   "metadata": {
    "tags": []
   },
   "outputs": [
    {
     "data": {
      "application/javascript": [
       "\n",
       "            var cell_index = IPython.notebook.get_selected_index();\n",
       "            var prev = cell_index - 1;\n",
       "            IPython.notebook.delete_cell(prev);\n",
       "        "
      ],
      "text/plain": [
       "<IPython.core.display.Javascript object>"
      ]
     },
     "metadata": {},
     "output_type": "display_data"
    }
   ],
   "source": [
    "z.removeLastelement()"
   ]
  },
  {
   "cell_type": "code",
   "execution_count": null,
   "id": "fec3fb7d-6311-4200-9d6c-fc313fd4cc4a",
   "metadata": {},
   "outputs": [],
   "source": []
  }
 ],
 "metadata": {
  "kernelspec": {
   "display_name": "Python 3 (ipykernel)",
   "language": "python",
   "name": "python3"
  },
  "language_info": {
   "codemirror_mode": {
    "name": "ipython",
    "version": 3
   },
   "file_extension": ".py",
   "mimetype": "text/x-python",
   "name": "python",
   "nbconvert_exporter": "python",
   "pygments_lexer": "ipython3",
   "version": "3.10.10"
  }
 },
 "nbformat": 4,
 "nbformat_minor": 5
}
