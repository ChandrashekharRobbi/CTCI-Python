{
 "cells": [
  {
   "cell_type": "code",
   "execution_count": 1,
   "id": "bd5b5323-6803-4660-82a2-b306092bee33",
   "metadata": {
    "tags": []
   },
   "outputs": [
    {
     "name": "stdout",
     "output_type": "stream",
     "text": [
      "Note that after executing new function your next cell will automatically converted to markdown cell :)\n"
     ]
    }
   ],
   "source": [
    "%run imp_personal.py\n",
    "z = MyFunction()"
   ]
  },
  {
   "cell_type": "markdown",
   "id": "8320365a-56f6-49e9-8048-19e33ece175a",
   "metadata": {},
   "source": [
    "# Arrays\n",
    "\n",
    "## Time Complexity\n",
    "|Operations|Worst Case|Average Case|\n",
    "|:------|:--------:|:-------:|\n",
    "|Insertion|$O(n)$|$θ(n)$|\n",
    "|Deletion|$O(n)$|$θ(n)$|\n",
    "|Searching|$O(n)$|$θ(n)$|\n",
    "|Access|$O(1)$|$θ(1)$|\n",
    "\n",
    "## Space Complexity:\n",
    "Worst Case --> $O(n)$"
   ]
  },
  {
   "cell_type": "markdown",
   "id": "c9a18a66-9788-4708-b2e6-e1c3ca346dc1",
   "metadata": {},
   "source": [
    "# Quick Links\n",
    "1. [Is Unique()](#Is-Unique())\n",
    "1. [isUnique() without using any DATA STRUCTURES](#isUnique()-without-using-any-DATA-STRUCTURES)"
   ]
  },
  {
   "cell_type": "markdown",
   "id": "6bfaf763-59ff-4624-804e-cae1cd997c43",
   "metadata": {},
   "source": [
    "## Is Unique"
   ]
  },
  {
   "cell_type": "code",
   "execution_count": 3,
   "id": "50a1ccd6-aa21-43a2-9270-fa24f91483fc",
   "metadata": {
    "tags": []
   },
   "outputs": [],
   "source": [
    "s = \"klmnkhg\""
   ]
  },
  {
   "cell_type": "code",
   "execution_count": 4,
   "id": "01cf40fb-5717-49ff-9597-4f74a5819c03",
   "metadata": {
    "tags": []
   },
   "outputs": [],
   "source": [
    "def isUnique(s):\n",
    "    arr = []\n",
    "    for i in s:\n",
    "        if i not in arr:\n",
    "            arr.append(i)\n",
    "        else:\n",
    "            return False\n",
    "    return True\n",
    "\n",
    "# Time Complexity will be O(n)\n",
    "# Space Complexity will be O(n)\n"
   ]
  },
  {
   "cell_type": "code",
   "execution_count": 5,
   "id": "123e601b-329a-488d-8d58-8694f1a12486",
   "metadata": {
    "tags": []
   },
   "outputs": [
    {
     "data": {
      "text/plain": [
       "False"
      ]
     },
     "execution_count": 5,
     "metadata": {},
     "output_type": "execute_result"
    }
   ],
   "source": [
    "isUnique(s)"
   ]
  },
  {
   "cell_type": "code",
   "execution_count": 6,
   "id": "44691f9c-b7aa-4585-86b2-f1984a3a4773",
   "metadata": {
    "tags": []
   },
   "outputs": [
    {
     "data": {
      "text/plain": [
       "True"
      ]
     },
     "execution_count": 6,
     "metadata": {},
     "output_type": "execute_result"
    }
   ],
   "source": [
    "isUnique(\"kljhg\")"
   ]
  },
  {
   "cell_type": "markdown",
   "id": "6b6d2fde-fb30-4a5d-b19c-cea087fd177d",
   "metadata": {},
   "source": [
    "### By using hash Table"
   ]
  },
  {
   "cell_type": "code",
   "execution_count": 7,
   "id": "7c38737e-8441-413a-84e6-b0f6d2ee6060",
   "metadata": {
    "tags": []
   },
   "outputs": [],
   "source": [
    "def isUniqueWithHash(s):\n",
    "    mp = {}\n",
    "    for i in s:\n",
    "        if i not in mp:\n",
    "            mp[i] = 1\n",
    "        else:\n",
    "            return False\n",
    "    return True"
   ]
  },
  {
   "cell_type": "code",
   "execution_count": 8,
   "id": "7b5347cc-76b7-4e4f-af2d-ebd9cc8e2e35",
   "metadata": {
    "tags": []
   },
   "outputs": [
    {
     "data": {
      "text/plain": [
       "False"
      ]
     },
     "execution_count": 8,
     "metadata": {},
     "output_type": "execute_result"
    }
   ],
   "source": [
    "isUniqueWithHash(s)"
   ]
  },
  {
   "cell_type": "code",
   "execution_count": 9,
   "id": "05abfde3-1130-4a14-a4c5-4a622849a06c",
   "metadata": {
    "tags": []
   },
   "outputs": [
    {
     "data": {
      "text/plain": [
       "True"
      ]
     },
     "execution_count": 9,
     "metadata": {},
     "output_type": "execute_result"
    }
   ],
   "source": [
    "isUniqueWithHash(\"lkjhg\")"
   ]
  },
  {
   "cell_type": "markdown",
   "id": "1ff4c24b-5b6f-4a8e-b7a9-701b98415bc0",
   "metadata": {},
   "source": [
    "### `isUnique()` without using any DATA STRUCTURES\n",
    "\n",
    "    * Alogorithmic\n",
    "    * Pythonic\n",
    "    * Bitwise Opertor"
   ]
  },
  {
   "cell_type": "code",
   "execution_count": 26,
   "id": "46740c1a-979a-4652-8296-22af62985b43",
   "metadata": {
    "tags": []
   },
   "outputs": [],
   "source": [
    "# Algorithmic\n",
    "def isUniqueWithoutAny(s):\n",
    "    if len(s) > 128:\n",
    "        return False\n",
    "    charSet = [False] * 128\n",
    "    for char in s:\n",
    "        if charSet[ord(char)]: # it signifies it is True as it is already existed before\n",
    "            return False\n",
    "        charSet[ord(char)] = True\n",
    "    return True"
   ]
  },
  {
   "cell_type": "code",
   "execution_count": 24,
   "id": "666df23b-bfb4-407c-9eb2-cca1da2804a7",
   "metadata": {
    "tags": []
   },
   "outputs": [
    {
     "data": {
      "text/plain": [
       "False"
      ]
     },
     "execution_count": 24,
     "metadata": {},
     "output_type": "execute_result"
    }
   ],
   "source": [
    "isUniqueWithoutAny(s)"
   ]
  },
  {
   "cell_type": "code",
   "execution_count": 25,
   "id": "de11672e-a7c8-4f7d-bff5-811254664d10",
   "metadata": {
    "tags": []
   },
   "outputs": [
    {
     "data": {
      "text/plain": [
       "True"
      ]
     },
     "execution_count": 25,
     "metadata": {},
     "output_type": "execute_result"
    }
   ],
   "source": [
    "isUniqueWithoutAny(\"lkjhg\")"
   ]
  },
  {
   "cell_type": "code",
   "execution_count": 27,
   "id": "25ae2264-9e35-470a-af0a-812d7c2f7510",
   "metadata": {
    "tags": []
   },
   "outputs": [],
   "source": [
    "# Pythonic\n",
    "def isUniquePythonic(s):\n",
    "    return len(set(s)) == len(s)"
   ]
  },
  {
   "cell_type": "code",
   "execution_count": 28,
   "id": "fc860c53-0414-48f6-b4c0-692c6a284b06",
   "metadata": {
    "tags": []
   },
   "outputs": [
    {
     "data": {
      "text/plain": [
       "False"
      ]
     },
     "execution_count": 28,
     "metadata": {},
     "output_type": "execute_result"
    }
   ],
   "source": [
    "isUniquePythonic(s)"
   ]
  },
  {
   "cell_type": "code",
   "execution_count": 29,
   "id": "d4a13eb5-768b-4465-a8b3-ad3b0d31a150",
   "metadata": {
    "tags": []
   },
   "outputs": [
    {
     "data": {
      "text/plain": [
       "True"
      ]
     },
     "execution_count": 29,
     "metadata": {},
     "output_type": "execute_result"
    }
   ],
   "source": [
    "isUniquePythonic(\"lkjhg\")"
   ]
  },
  {
   "cell_type": "code",
   "execution_count": 84,
   "id": "33d319b7-7dbe-4d82-9254-7f32bca38c3c",
   "metadata": {
    "tags": []
   },
   "outputs": [],
   "source": [
    "# Bitwise Operator\n",
    "def isUniqueBit(s):\n",
    "    if len(s) > 128:\n",
    "        return False\n",
    "    checker = 0\n",
    "    for c in s:\n",
    "        val = ord(c)\n",
    "        if checker & (1 << val) > 0:\n",
    "            return False\n",
    "        checker = checker | 1 << val\n",
    "    return True"
   ]
  },
  {
   "cell_type": "code",
   "execution_count": 85,
   "id": "a8dffb28-c344-4886-a7e2-1e4b4d74c68e",
   "metadata": {
    "tags": []
   },
   "outputs": [
    {
     "data": {
      "text/plain": [
       "False"
      ]
     },
     "execution_count": 85,
     "metadata": {},
     "output_type": "execute_result"
    }
   ],
   "source": [
    "isUniqueBit(s)"
   ]
  },
  {
   "cell_type": "code",
   "execution_count": 86,
   "id": "766d3a12-5c5d-4133-a14e-3b1c991ad0d2",
   "metadata": {
    "tags": []
   },
   "outputs": [
    {
     "data": {
      "text/plain": [
       "True"
      ]
     },
     "execution_count": 86,
     "metadata": {},
     "output_type": "execute_result"
    }
   ],
   "source": [
    "isUniqueBit(\"lkjhg\")"
   ]
  },
  {
   "cell_type": "code",
   "execution_count": 87,
   "id": "f167a25e-3cb9-4efd-9582-12967c08f3b1",
   "metadata": {
    "tags": []
   },
   "outputs": [],
   "source": [
    "# O(N log(N)) SOlution\n",
    "def isUnique_Sort(s):\n",
    "    sorted_string = sorted(s)\n",
    "    l_c = None\n",
    "    for char in sorted_string:\n",
    "        if char == l_c:\n",
    "            return False\n",
    "        l_c = char\n",
    "    return True"
   ]
  },
  {
   "cell_type": "code",
   "execution_count": 88,
   "id": "c6ae192b-61b7-404c-909a-bd0f24947c27",
   "metadata": {
    "tags": []
   },
   "outputs": [
    {
     "data": {
      "text/plain": [
       "False"
      ]
     },
     "execution_count": 88,
     "metadata": {},
     "output_type": "execute_result"
    }
   ],
   "source": [
    "isUnique_Sort(s)"
   ]
  },
  {
   "cell_type": "code",
   "execution_count": 89,
   "id": "3bb7e2b8-0f83-42d6-8d54-abb7bde9fa99",
   "metadata": {
    "tags": []
   },
   "outputs": [
    {
     "data": {
      "text/plain": [
       "True"
      ]
     },
     "execution_count": 89,
     "metadata": {},
     "output_type": "execute_result"
    }
   ],
   "source": [
    "isUnique_Sort(\"lkjhg\")"
   ]
  },
  {
   "cell_type": "code",
   "execution_count": 93,
   "id": "8c2a7744-a938-43c4-8daf-c330b177f3cc",
   "metadata": {
    "tags": []
   },
   "outputs": [],
   "source": [
    "def isUnique_Sort1(s):\n",
    "    sorted_string = sorted(s)\n",
    "    for i in range(len(sorted_string) - 1):\n",
    "        if sorted_string[i] == sorted_string[i+1]:\n",
    "            return False\n",
    "    return True"
   ]
  },
  {
   "cell_type": "code",
   "execution_count": 94,
   "id": "27daa2e5-b7d9-4e1b-a141-78e47d2ff997",
   "metadata": {
    "tags": []
   },
   "outputs": [
    {
     "data": {
      "text/plain": [
       "False"
      ]
     },
     "execution_count": 94,
     "metadata": {},
     "output_type": "execute_result"
    }
   ],
   "source": [
    "isUnique_Sort1(s)"
   ]
  },
  {
   "cell_type": "code",
   "execution_count": 95,
   "id": "d7944a69-5baa-4f16-9f79-212b749b7724",
   "metadata": {
    "tags": []
   },
   "outputs": [
    {
     "data": {
      "text/plain": [
       "True"
      ]
     },
     "execution_count": 95,
     "metadata": {},
     "output_type": "execute_result"
    }
   ],
   "source": [
    "isUnique_Sort1(\"lkjhg\")"
   ]
  },
  {
   "cell_type": "code",
   "execution_count": 99,
   "id": "edbe6c67-83fb-4f0a-8971-94c8db0f75b4",
   "metadata": {
    "tags": []
   },
   "outputs": [
    {
     "name": "stdout",
     "output_type": "stream",
     "text": [
      "Successfully added to the comment list\n"
     ]
    }
   ],
   "source": [
    "z.new(\"Check Permutation\")"
   ]
  },
  {
   "cell_type": "markdown",
   "id": "e822830f-8e8d-43e5-b49b-75717e2c3bfc",
   "metadata": {},
   "source": [
    "## Check Permutation\n",
    "    * By using Sort Method\n",
    "    * By using HashMap"
   ]
  },
  {
   "cell_type": "code",
   "execution_count": 108,
   "id": "6e45bf48-0ccb-4835-9c43-f0904e7ce981",
   "metadata": {
    "tags": []
   },
   "outputs": [],
   "source": [
    "def checkPermutation(s1, s2):\n",
    "    if len(s1) != len(s2):\n",
    "        return False\n",
    "    sorted_string_1 = sorted(s1)\n",
    "    sorted_string_2 = sorted(s2)\n",
    "    # print(s1,s2,sorted_string_1,sorted_string_2)\n",
    "    return True if (sorted_string_1 == sorted_string_2) else False"
   ]
  },
  {
   "cell_type": "code",
   "execution_count": 112,
   "id": "407b80b4-c907-4adc-819e-901abc20e1f1",
   "metadata": {
    "tags": []
   },
   "outputs": [
    {
     "data": {
      "text/plain": [
       "True"
      ]
     },
     "execution_count": 112,
     "metadata": {},
     "output_type": "execute_result"
    }
   ],
   "source": [
    "t1_s1 = \"robbi\"\n",
    "t1_s2 = \"biorb\"\n",
    "checkPermutation(t1_s1, t1_s2)"
   ]
  },
  {
   "cell_type": "code",
   "execution_count": 113,
   "id": "048c519f-65eb-49f4-bd0b-ea1433bce43a",
   "metadata": {
    "tags": []
   },
   "outputs": [],
   "source": [
    "t2_s1 = \"chandra\"\n",
    "t2_s2 = \"ardnax\""
   ]
  },
  {
   "cell_type": "code",
   "execution_count": 114,
   "id": "f4e6cc9e-a173-4ab2-83dc-4f3749594246",
   "metadata": {
    "tags": []
   },
   "outputs": [
    {
     "data": {
      "text/plain": [
       "False"
      ]
     },
     "execution_count": 114,
     "metadata": {},
     "output_type": "execute_result"
    }
   ],
   "source": [
    "checkPermutation(t2_s1, t2_s2)"
   ]
  },
  {
   "cell_type": "code",
   "execution_count": 115,
   "id": "ca139774-b32d-455c-bab4-1b4381094265",
   "metadata": {
    "tags": []
   },
   "outputs": [
    {
     "data": {
      "text/plain": [
       "False"
      ]
     },
     "execution_count": 115,
     "metadata": {},
     "output_type": "execute_result"
    }
   ],
   "source": [
    "t3_s1 = \"kjka\"\n",
    "t3_s2 = \"lk\"\n",
    "checkPermutation(t3_s1, t3_s2)"
   ]
  },
  {
   "cell_type": "code",
   "execution_count": null,
   "id": "fd59d948-c6ea-4687-844c-49b1bbe7b5a7",
   "metadata": {},
   "outputs": [],
   "source": [
    "def checkP"
   ]
  }
 ],
 "metadata": {
  "kernelspec": {
   "display_name": "Python 3 (ipykernel)",
   "language": "python",
   "name": "python3"
  },
  "language_info": {
   "codemirror_mode": {
    "name": "ipython",
    "version": 3
   },
   "file_extension": ".py",
   "mimetype": "text/x-python",
   "name": "python",
   "nbconvert_exporter": "python",
   "pygments_lexer": "ipython3",
   "version": "3.10.10"
  }
 },
 "nbformat": 4,
 "nbformat_minor": 5
}
