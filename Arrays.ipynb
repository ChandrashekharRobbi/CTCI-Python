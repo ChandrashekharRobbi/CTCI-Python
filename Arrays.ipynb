{
 "cells": [
  {
   "cell_type": "code",
   "execution_count": 8,
   "id": "bd5b5323-6803-4660-82a2-b306092bee33",
   "metadata": {
    "tags": []
   },
   "outputs": [
    {
     "name": "stdout",
     "output_type": "stream",
     "text": [
      "Note that after executing new function your next cell will automatically converted to markdown cell :)\n"
     ]
    }
   ],
   "source": [
    "%run imp_personal.py\n",
    "z = MyFunction()"
   ]
  },
  {
   "cell_type": "markdown",
   "id": "8320365a-56f6-49e9-8048-19e33ece175a",
   "metadata": {},
   "source": [
    "# Arrays\n",
    "\n",
    "## Time Complexity\n",
    "|Operations|Worst Case|Average Case|\n",
    "|:------|:--------:|:-------:|\n",
    "|Insertion|$O(n)$|$θ(n)$|\n",
    "|Deletion|$O(n)$|$θ(n)$|\n",
    "|Searching|$O(n)$|$θ(n)$|\n",
    "|Access|$O(1)$|$θ(1)$|\n",
    "\n",
    "## Space Complexity:\n",
    "Worst Case --> $O(n)$"
   ]
  },
  {
   "cell_type": "code",
   "execution_count": 10,
   "id": "241f804b-4e2f-4fc0-859b-89b601211338",
   "metadata": {
    "tags": []
   },
   "outputs": [
    {
     "name": "stdout",
     "output_type": "stream",
     "text": [
      "Successfully added to the comment list\n"
     ]
    }
   ],
   "source": [
    "z.new(\"Is Unique()\")"
   ]
  },
  {
   "cell_type": "markdown",
   "id": "6bfaf763-59ff-4624-804e-cae1cd997c43",
   "metadata": {},
   "source": [
    "## Is Unique"
   ]
  },
  {
   "cell_type": "code",
   "execution_count": 11,
   "id": "50a1ccd6-aa21-43a2-9270-fa24f91483fc",
   "metadata": {
    "tags": []
   },
   "outputs": [],
   "source": [
    "s = \"klmnkhg\""
   ]
  },
  {
   "cell_type": "code",
   "execution_count": null,
   "id": "01cf40fb-5717-49ff-9597-4f74a5819c03",
   "metadata": {},
   "outputs": [],
   "source": [
    "def isUnique(s):\n",
    "    "
   ]
  }
 ],
 "metadata": {
  "kernelspec": {
   "display_name": "Python 3 (ipykernel)",
   "language": "python",
   "name": "python3"
  },
  "language_info": {
   "codemirror_mode": {
    "name": "ipython",
    "version": 3
   },
   "file_extension": ".py",
   "mimetype": "text/x-python",
   "name": "python",
   "nbconvert_exporter": "python",
   "pygments_lexer": "ipython3",
   "version": "3.10.10"
  }
 },
 "nbformat": 4,
 "nbformat_minor": 5
}
