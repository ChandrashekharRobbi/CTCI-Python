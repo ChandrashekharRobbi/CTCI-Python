{
 "cells": [
  {
   "cell_type": "code",
   "execution_count": 1,
   "id": "bd5b5323-6803-4660-82a2-b306092bee33",
   "metadata": {
    "tags": []
   },
   "outputs": [
    {
     "name": "stdout",
     "output_type": "stream",
     "text": [
      "Note that after executing new function your next cell will automatically converted to markdown cell :)\n"
     ]
    }
   ],
   "source": [
    "%run imp_personal.py\n",
    "z = MyFunction()"
   ]
  },
  {
   "cell_type": "markdown",
   "id": "8320365a-56f6-49e9-8048-19e33ece175a",
   "metadata": {},
   "source": [
    "# Arrays\n",
    "\n",
    "## Time Complexity\n",
    "|Operations|Worst Case|Average Case|\n",
    "|:------|:--------:|:-------:|\n",
    "|Insertion|$O(n)$|$θ(n)$|\n",
    "|Deletion|$O(n)$|$θ(n)$|\n",
    "|Searching|$O(n)$|$θ(n)$|\n",
    "|Access|$O(1)$|$θ(1)$|\n",
    "\n",
    "## Space Complexity:\n",
    "Worst Case --> $O(n)$"
   ]
  },
  {
   "cell_type": "markdown",
   "id": "c9a18a66-9788-4708-b2e6-e1c3ca346dc1",
   "metadata": {},
   "source": [
    "# Quick Links\n",
    "1. [Is Unique()](#Is-Unique())\n",
    "1. [isUnique() without using any DATA STRUCTURES](#isUnique()-without-using-any-DATA-STRUCTURES)\n",
    "1. [Check Permutation](#Check-Permutation)\n",
    "1. [String is Palindrome](#String-is-Palindrome)\n",
    "1. [Permutation Palindrome](#Permutation-Palindrome)\n",
    "1. [One Way](#One-Way)\n",
    "1. [String Compression](#String-Compression)"
   ]
  },
  {
   "cell_type": "markdown",
   "id": "6bfaf763-59ff-4624-804e-cae1cd997c43",
   "metadata": {},
   "source": [
    "## Is Unique"
   ]
  },
  {
   "cell_type": "code",
   "execution_count": 2,
   "id": "50a1ccd6-aa21-43a2-9270-fa24f91483fc",
   "metadata": {
    "tags": []
   },
   "outputs": [],
   "source": [
    "s = \"klmnkhg\""
   ]
  },
  {
   "cell_type": "code",
   "execution_count": 3,
   "id": "01cf40fb-5717-49ff-9597-4f74a5819c03",
   "metadata": {
    "tags": []
   },
   "outputs": [],
   "source": [
    "def isUnique(s):\n",
    "    arr = []\n",
    "    for i in s:\n",
    "        if i not in arr:\n",
    "            arr.append(i)\n",
    "        else:\n",
    "            return False\n",
    "    return True\n",
    "\n",
    "# Time Complexity will be O(n)\n",
    "# Space Complexity will be O(n)\n"
   ]
  },
  {
   "cell_type": "code",
   "execution_count": 4,
   "id": "123e601b-329a-488d-8d58-8694f1a12486",
   "metadata": {
    "tags": []
   },
   "outputs": [
    {
     "data": {
      "text/plain": [
       "False"
      ]
     },
     "execution_count": 4,
     "metadata": {},
     "output_type": "execute_result"
    }
   ],
   "source": [
    "isUnique(s)"
   ]
  },
  {
   "cell_type": "code",
   "execution_count": 5,
   "id": "44691f9c-b7aa-4585-86b2-f1984a3a4773",
   "metadata": {
    "tags": []
   },
   "outputs": [
    {
     "data": {
      "text/plain": [
       "True"
      ]
     },
     "execution_count": 5,
     "metadata": {},
     "output_type": "execute_result"
    }
   ],
   "source": [
    "isUnique(\"kljhg\")"
   ]
  },
  {
   "cell_type": "markdown",
   "id": "6b6d2fde-fb30-4a5d-b19c-cea087fd177d",
   "metadata": {},
   "source": [
    "### By using hash Table"
   ]
  },
  {
   "cell_type": "code",
   "execution_count": 6,
   "id": "7c38737e-8441-413a-84e6-b0f6d2ee6060",
   "metadata": {
    "tags": []
   },
   "outputs": [],
   "source": [
    "def isUniqueWithHash(s):\n",
    "    mp = {}\n",
    "    for i in s:\n",
    "        if i not in mp:\n",
    "            mp[i] = 1\n",
    "        else:\n",
    "            return False\n",
    "    return True"
   ]
  },
  {
   "cell_type": "code",
   "execution_count": 7,
   "id": "7b5347cc-76b7-4e4f-af2d-ebd9cc8e2e35",
   "metadata": {
    "tags": []
   },
   "outputs": [
    {
     "data": {
      "text/plain": [
       "False"
      ]
     },
     "execution_count": 7,
     "metadata": {},
     "output_type": "execute_result"
    }
   ],
   "source": [
    "isUniqueWithHash(s)"
   ]
  },
  {
   "cell_type": "code",
   "execution_count": 8,
   "id": "05abfde3-1130-4a14-a4c5-4a622849a06c",
   "metadata": {
    "tags": []
   },
   "outputs": [
    {
     "data": {
      "text/plain": [
       "True"
      ]
     },
     "execution_count": 8,
     "metadata": {},
     "output_type": "execute_result"
    }
   ],
   "source": [
    "isUniqueWithHash(\"lkjhg\")"
   ]
  },
  {
   "cell_type": "markdown",
   "id": "1ff4c24b-5b6f-4a8e-b7a9-701b98415bc0",
   "metadata": {},
   "source": [
    "### `isUnique()` without using any DATA STRUCTURES\n",
    "\n",
    "    * Alogorithmic\n",
    "    * Pythonic\n",
    "    * Bitwise Opertor"
   ]
  },
  {
   "cell_type": "code",
   "execution_count": 9,
   "id": "46740c1a-979a-4652-8296-22af62985b43",
   "metadata": {
    "tags": []
   },
   "outputs": [],
   "source": [
    "# Algorithmic\n",
    "def isUniqueWithoutAny(s):\n",
    "    if len(s) > 128:\n",
    "        return False\n",
    "    charSet = [False] * 128\n",
    "    for char in s:\n",
    "        if charSet[ord(char)]: # it signifies it is True as it is already existed before\n",
    "            return False\n",
    "        charSet[ord(char)] = True\n",
    "    return True"
   ]
  },
  {
   "cell_type": "code",
   "execution_count": 10,
   "id": "666df23b-bfb4-407c-9eb2-cca1da2804a7",
   "metadata": {
    "tags": []
   },
   "outputs": [
    {
     "data": {
      "text/plain": [
       "False"
      ]
     },
     "execution_count": 10,
     "metadata": {},
     "output_type": "execute_result"
    }
   ],
   "source": [
    "isUniqueWithoutAny(s)"
   ]
  },
  {
   "cell_type": "code",
   "execution_count": 11,
   "id": "de11672e-a7c8-4f7d-bff5-811254664d10",
   "metadata": {
    "tags": []
   },
   "outputs": [
    {
     "data": {
      "text/plain": [
       "True"
      ]
     },
     "execution_count": 11,
     "metadata": {},
     "output_type": "execute_result"
    }
   ],
   "source": [
    "isUniqueWithoutAny(\"lkjhg\")"
   ]
  },
  {
   "cell_type": "code",
   "execution_count": 12,
   "id": "25ae2264-9e35-470a-af0a-812d7c2f7510",
   "metadata": {
    "tags": []
   },
   "outputs": [],
   "source": [
    "# Pythonic\n",
    "def isUniquePythonic(s):\n",
    "    return len(set(s)) == len(s)"
   ]
  },
  {
   "cell_type": "code",
   "execution_count": 13,
   "id": "fc860c53-0414-48f6-b4c0-692c6a284b06",
   "metadata": {
    "tags": []
   },
   "outputs": [
    {
     "data": {
      "text/plain": [
       "False"
      ]
     },
     "execution_count": 13,
     "metadata": {},
     "output_type": "execute_result"
    }
   ],
   "source": [
    "isUniquePythonic(s)"
   ]
  },
  {
   "cell_type": "code",
   "execution_count": 14,
   "id": "d4a13eb5-768b-4465-a8b3-ad3b0d31a150",
   "metadata": {
    "tags": []
   },
   "outputs": [
    {
     "data": {
      "text/plain": [
       "True"
      ]
     },
     "execution_count": 14,
     "metadata": {},
     "output_type": "execute_result"
    }
   ],
   "source": [
    "isUniquePythonic(\"lkjhg\")"
   ]
  },
  {
   "cell_type": "code",
   "execution_count": 15,
   "id": "33d319b7-7dbe-4d82-9254-7f32bca38c3c",
   "metadata": {
    "tags": []
   },
   "outputs": [],
   "source": [
    "# Bitwise Operator\n",
    "def isUniqueBit(s):\n",
    "    if len(s) > 128:\n",
    "        return False\n",
    "    checker = 0\n",
    "    for c in s:\n",
    "        val = ord(c)\n",
    "        if checker & (1 << val) > 0:\n",
    "            return False\n",
    "        checker = checker | 1 << val\n",
    "    return True"
   ]
  },
  {
   "cell_type": "code",
   "execution_count": 16,
   "id": "a8dffb28-c344-4886-a7e2-1e4b4d74c68e",
   "metadata": {
    "tags": []
   },
   "outputs": [
    {
     "data": {
      "text/plain": [
       "False"
      ]
     },
     "execution_count": 16,
     "metadata": {},
     "output_type": "execute_result"
    }
   ],
   "source": [
    "isUniqueBit(s)"
   ]
  },
  {
   "cell_type": "code",
   "execution_count": 17,
   "id": "766d3a12-5c5d-4133-a14e-3b1c991ad0d2",
   "metadata": {
    "tags": []
   },
   "outputs": [
    {
     "data": {
      "text/plain": [
       "True"
      ]
     },
     "execution_count": 17,
     "metadata": {},
     "output_type": "execute_result"
    }
   ],
   "source": [
    "isUniqueBit(\"lkjhg\")"
   ]
  },
  {
   "cell_type": "code",
   "execution_count": 18,
   "id": "f167a25e-3cb9-4efd-9582-12967c08f3b1",
   "metadata": {
    "tags": []
   },
   "outputs": [],
   "source": [
    "# O(N log(N)) SOlution\n",
    "def isUnique_Sort(s):\n",
    "    sorted_string = sorted(s)\n",
    "    l_c = None\n",
    "    for char in sorted_string:\n",
    "        if char == l_c:\n",
    "            return False\n",
    "        l_c = char\n",
    "    return True"
   ]
  },
  {
   "cell_type": "code",
   "execution_count": 19,
   "id": "c6ae192b-61b7-404c-909a-bd0f24947c27",
   "metadata": {
    "tags": []
   },
   "outputs": [
    {
     "data": {
      "text/plain": [
       "False"
      ]
     },
     "execution_count": 19,
     "metadata": {},
     "output_type": "execute_result"
    }
   ],
   "source": [
    "isUnique_Sort(s)"
   ]
  },
  {
   "cell_type": "code",
   "execution_count": 20,
   "id": "3bb7e2b8-0f83-42d6-8d54-abb7bde9fa99",
   "metadata": {
    "tags": []
   },
   "outputs": [
    {
     "data": {
      "text/plain": [
       "True"
      ]
     },
     "execution_count": 20,
     "metadata": {},
     "output_type": "execute_result"
    }
   ],
   "source": [
    "isUnique_Sort(\"lkjhg\")"
   ]
  },
  {
   "cell_type": "code",
   "execution_count": 21,
   "id": "8c2a7744-a938-43c4-8daf-c330b177f3cc",
   "metadata": {
    "tags": []
   },
   "outputs": [],
   "source": [
    "def isUnique_Sort1(s):\n",
    "    sorted_string = sorted(s)\n",
    "    for i in range(len(sorted_string) - 1):\n",
    "        if sorted_string[i] == sorted_string[i+1]:\n",
    "            return False\n",
    "    return True"
   ]
  },
  {
   "cell_type": "code",
   "execution_count": 22,
   "id": "27daa2e5-b7d9-4e1b-a141-78e47d2ff997",
   "metadata": {
    "tags": []
   },
   "outputs": [
    {
     "data": {
      "text/plain": [
       "False"
      ]
     },
     "execution_count": 22,
     "metadata": {},
     "output_type": "execute_result"
    }
   ],
   "source": [
    "isUnique_Sort1(s)"
   ]
  },
  {
   "cell_type": "code",
   "execution_count": 23,
   "id": "d7944a69-5baa-4f16-9f79-212b749b7724",
   "metadata": {
    "tags": []
   },
   "outputs": [
    {
     "data": {
      "text/plain": [
       "True"
      ]
     },
     "execution_count": 23,
     "metadata": {},
     "output_type": "execute_result"
    }
   ],
   "source": [
    "isUnique_Sort1(\"lkjhg\")"
   ]
  },
  {
   "cell_type": "markdown",
   "id": "35145491-18db-413a-a96e-b54b31a5783e",
   "metadata": {},
   "source": [
    "## Extra Method"
   ]
  },
  {
   "cell_type": "code",
   "execution_count": 83,
   "id": "d1e2bb0a-de43-4b1d-9689-9b1ab46d1f9a",
   "metadata": {
    "tags": []
   },
   "outputs": [],
   "source": [
    "def isUnique2(s):\n",
    "    for i in range(len(s)- 2):\n",
    "        if s[i] == s[i + 1]:\n",
    "            return False\n",
    "    return True"
   ]
  },
  {
   "cell_type": "code",
   "execution_count": 84,
   "id": "6a5b5755-1a62-4833-b226-14c3aa09c63a",
   "metadata": {
    "tags": []
   },
   "outputs": [
    {
     "data": {
      "text/plain": [
       "False"
      ]
     },
     "execution_count": 84,
     "metadata": {},
     "output_type": "execute_result"
    }
   ],
   "source": [
    "isUnique2(s)"
   ]
  },
  {
   "cell_type": "code",
   "execution_count": 85,
   "id": "82516624-aa83-4409-853f-d111a1521c5d",
   "metadata": {
    "tags": []
   },
   "outputs": [
    {
     "data": {
      "text/plain": [
       "True"
      ]
     },
     "execution_count": 85,
     "metadata": {},
     "output_type": "execute_result"
    }
   ],
   "source": [
    "isUnique2('lkjhg')"
   ]
  },
  {
   "cell_type": "markdown",
   "id": "e822830f-8e8d-43e5-b49b-75717e2c3bfc",
   "metadata": {},
   "source": [
    "## Check Permutation\n",
    "    * By using Sort Method\n",
    "    * By using HashMap"
   ]
  },
  {
   "cell_type": "code",
   "execution_count": 24,
   "id": "6e45bf48-0ccb-4835-9c43-f0904e7ce981",
   "metadata": {
    "tags": []
   },
   "outputs": [],
   "source": [
    "def checkPermutation(s1, s2):\n",
    "    if len(s1) != len(s2):\n",
    "        return False\n",
    "    sorted_string_1 = sorted(s1)\n",
    "    sorted_string_2 = sorted(s2)\n",
    "    # print(s1,s2,sorted_string_1,sorted_string_2)\n",
    "    return True if (sorted_string_1 == sorted_string_2) else False"
   ]
  },
  {
   "cell_type": "code",
   "execution_count": 25,
   "id": "407b80b4-c907-4adc-819e-901abc20e1f1",
   "metadata": {
    "tags": []
   },
   "outputs": [
    {
     "data": {
      "text/plain": [
       "True"
      ]
     },
     "execution_count": 25,
     "metadata": {},
     "output_type": "execute_result"
    }
   ],
   "source": [
    "t1_s1 = \"robbi\"\n",
    "t1_s2 = \"biorb\"\n",
    "checkPermutation(t1_s1, t1_s2)"
   ]
  },
  {
   "cell_type": "code",
   "execution_count": 26,
   "id": "048c519f-65eb-49f4-bd0b-ea1433bce43a",
   "metadata": {
    "tags": []
   },
   "outputs": [],
   "source": [
    "t2_s1 = \"chandra\"\n",
    "t2_s2 = \"ardnax\""
   ]
  },
  {
   "cell_type": "code",
   "execution_count": 27,
   "id": "f4e6cc9e-a173-4ab2-83dc-4f3749594246",
   "metadata": {
    "tags": []
   },
   "outputs": [
    {
     "data": {
      "text/plain": [
       "False"
      ]
     },
     "execution_count": 27,
     "metadata": {},
     "output_type": "execute_result"
    }
   ],
   "source": [
    "checkPermutation(t2_s1, t2_s2)"
   ]
  },
  {
   "cell_type": "code",
   "execution_count": 28,
   "id": "ca139774-b32d-455c-bab4-1b4381094265",
   "metadata": {
    "tags": []
   },
   "outputs": [
    {
     "data": {
      "text/plain": [
       "False"
      ]
     },
     "execution_count": 28,
     "metadata": {},
     "output_type": "execute_result"
    }
   ],
   "source": [
    "t3_s1 = \"kjka\"\n",
    "t3_s2 = \"lk\"\n",
    "checkPermutation(t3_s1, t3_s2)"
   ]
  },
  {
   "cell_type": "code",
   "execution_count": 29,
   "id": "fd59d948-c6ea-4687-844c-49b1bbe7b5a7",
   "metadata": {
    "tags": []
   },
   "outputs": [],
   "source": [
    "def checkPermutationByHash(s1, s2):\n",
    "    mp = {}\n",
    "    if len(s1) != len(s2):\n",
    "        return False\n",
    "    for i in s1:\n",
    "        if i not in mp:\n",
    "            mp[i] = 1\n",
    "        else:\n",
    "            mp[i] += 1\n",
    "    # look into s2 and reduce the value if exists\n",
    "    # and also if any value is in negative then return False as it is no longe permutation of the s1 string\n",
    "    for j in s2:\n",
    "        if j in mp and mp[j] > 0:\n",
    "            mp[j] -= 1\n",
    "        else:\n",
    "            return False\n",
    "    return True"
   ]
  },
  {
   "cell_type": "code",
   "execution_count": 30,
   "id": "54d06665-1b10-4601-9ed1-021cefafeb89",
   "metadata": {
    "tags": []
   },
   "outputs": [
    {
     "data": {
      "text/plain": [
       "True"
      ]
     },
     "execution_count": 30,
     "metadata": {},
     "output_type": "execute_result"
    }
   ],
   "source": [
    "checkPermutationByHash(t1_s1, t1_s2)"
   ]
  },
  {
   "cell_type": "code",
   "execution_count": 31,
   "id": "3883add0-c62e-4e41-9e70-6330136d79c0",
   "metadata": {
    "tags": []
   },
   "outputs": [
    {
     "data": {
      "text/plain": [
       "False"
      ]
     },
     "execution_count": 31,
     "metadata": {},
     "output_type": "execute_result"
    }
   ],
   "source": [
    "checkPermutationByHash(t2_s1, t2_s2)"
   ]
  },
  {
   "cell_type": "code",
   "execution_count": 32,
   "id": "fb5a90a2-85d3-4ec0-a892-c7ff7825cfbd",
   "metadata": {
    "tags": []
   },
   "outputs": [
    {
     "data": {
      "text/plain": [
       "False"
      ]
     },
     "execution_count": 32,
     "metadata": {},
     "output_type": "execute_result"
    }
   ],
   "source": [
    "checkPermutationByHash(t3_s1, t3_s2)"
   ]
  },
  {
   "cell_type": "markdown",
   "id": "48c972af-700a-4ecf-8be1-5a4f028bacb8",
   "metadata": {},
   "source": [
    "## URLify\n",
    "    * Normal Way\n",
    "    * Algorithm Way"
   ]
  },
  {
   "cell_type": "code",
   "execution_count": 33,
   "id": "23d8025a-c47a-43b5-a013-dc4fcdd58e11",
   "metadata": {
    "tags": []
   },
   "outputs": [],
   "source": [
    "s = \"Hello   Daddy\""
   ]
  },
  {
   "cell_type": "code",
   "execution_count": 34,
   "id": "4a9b3ed0-5cc4-4ea7-9f43-ccd252dd4996",
   "metadata": {
    "tags": []
   },
   "outputs": [],
   "source": [
    "def UrLify1(s,n):\n",
    "    list_s = list(s)\n",
    "    for i in range(0, n):\n",
    "        if list_s[i] == ' ':\n",
    "            list_s[i] = \"%20\"\n",
    "    return \"\".join(list_s[:n])"
   ]
  },
  {
   "cell_type": "code",
   "execution_count": 35,
   "id": "9d6e19e6-84c9-4b9b-a0cd-8cc5c2ef80e9",
   "metadata": {},
   "outputs": [
    {
     "data": {
      "text/plain": [
       "'Mr%20John%20Smith'"
      ]
     },
     "execution_count": 35,
     "metadata": {},
     "output_type": "execute_result"
    }
   ],
   "source": [
    "UrLify1(\"Mr John Smith   \",13)"
   ]
  },
  {
   "cell_type": "code",
   "execution_count": 36,
   "id": "1471fbde-55e4-4593-9805-aa42fadfeefe",
   "metadata": {
    "tags": []
   },
   "outputs": [
    {
     "data": {
      "text/plain": [
       "'Mr%20%20%20%20John%20%20%20%20Smith'"
      ]
     },
     "execution_count": 36,
     "metadata": {},
     "output_type": "execute_result"
    }
   ],
   "source": [
    "UrLify1(\"Mr    John    Smith     \",19)"
   ]
  },
  {
   "cell_type": "code",
   "execution_count": 37,
   "id": "74b899a2-fd7a-45ae-8136-75bb6dca52d1",
   "metadata": {
    "tags": []
   },
   "outputs": [],
   "source": [
    "def URLify2(s, n):\n",
    "    # first count the spaces from start till n\n",
    "    ls = list(s)\n",
    "    spaceCount = 0\n",
    "    index = 0\n",
    "    for i in range(0,n):\n",
    "        if ls[i] == ' ':\n",
    "            spaceCount += 1\n",
    "    # now get the index value such that it can swap to the backward buffer created so that they can swap to back of the string\n",
    "    index = n + spaceCount * 2\n",
    "    print(index)\n",
    "    # if n < len(ls): ls[n] = '\\0'\n",
    "    # we have to make sure that the list size is similar to index value\n",
    "    while len(ls) < index:\n",
    "        ls.append(' ')\n",
    "    # now start from the back and start for loop and if the string contains space then add '%20' else swap the element and decremenet index\n",
    "    for i in range(n - 1, -1, -1):\n",
    "        print(ls)\n",
    "        # print(len(ls))\n",
    "        # print(index)\n",
    "        print(f\"Current element is {ls[i] if ls[i] != ' ' else 'Null'}\")\n",
    "        if ls[i] == ' ':\n",
    "            print(\"Now going to insert '%20'\")\n",
    "            ls[index - 1] = '0'\n",
    "            ls[index - 2] = '2'\n",
    "            ls[index - 3] = '%'\n",
    "            index -= 3\n",
    "        else:\n",
    "            print(\"Smap the value to the index - 1\")\n",
    "            ls[index - 1] = ls[i]\n",
    "            index -= 1\n",
    "        print(ls)\n",
    "    # print(ls)\n",
    "    return \"\".join(ls)"
   ]
  },
  {
   "cell_type": "code",
   "execution_count": 38,
   "id": "07e5f374-e8b4-4753-a234-ddb8bdb2f953",
   "metadata": {
    "tags": []
   },
   "outputs": [
    {
     "name": "stdout",
     "output_type": "stream",
     "text": [
      "17\n",
      "['m', 'r', ' ', 'J', 'o', 'h', 'n', ' ', 'S', 'm', 'i', 't', 'h', ' ', ' ', ' ', ' ']\n",
      "Current element is h\n",
      "Smap the value to the index - 1\n",
      "['m', 'r', ' ', 'J', 'o', 'h', 'n', ' ', 'S', 'm', 'i', 't', 'h', ' ', ' ', ' ', 'h']\n",
      "['m', 'r', ' ', 'J', 'o', 'h', 'n', ' ', 'S', 'm', 'i', 't', 'h', ' ', ' ', ' ', 'h']\n",
      "Current element is t\n",
      "Smap the value to the index - 1\n",
      "['m', 'r', ' ', 'J', 'o', 'h', 'n', ' ', 'S', 'm', 'i', 't', 'h', ' ', ' ', 't', 'h']\n",
      "['m', 'r', ' ', 'J', 'o', 'h', 'n', ' ', 'S', 'm', 'i', 't', 'h', ' ', ' ', 't', 'h']\n",
      "Current element is i\n",
      "Smap the value to the index - 1\n",
      "['m', 'r', ' ', 'J', 'o', 'h', 'n', ' ', 'S', 'm', 'i', 't', 'h', ' ', 'i', 't', 'h']\n",
      "['m', 'r', ' ', 'J', 'o', 'h', 'n', ' ', 'S', 'm', 'i', 't', 'h', ' ', 'i', 't', 'h']\n",
      "Current element is m\n",
      "Smap the value to the index - 1\n",
      "['m', 'r', ' ', 'J', 'o', 'h', 'n', ' ', 'S', 'm', 'i', 't', 'h', 'm', 'i', 't', 'h']\n",
      "['m', 'r', ' ', 'J', 'o', 'h', 'n', ' ', 'S', 'm', 'i', 't', 'h', 'm', 'i', 't', 'h']\n",
      "Current element is S\n",
      "Smap the value to the index - 1\n",
      "['m', 'r', ' ', 'J', 'o', 'h', 'n', ' ', 'S', 'm', 'i', 't', 'S', 'm', 'i', 't', 'h']\n",
      "['m', 'r', ' ', 'J', 'o', 'h', 'n', ' ', 'S', 'm', 'i', 't', 'S', 'm', 'i', 't', 'h']\n",
      "Current element is Null\n",
      "Now going to insert '%20'\n",
      "['m', 'r', ' ', 'J', 'o', 'h', 'n', ' ', 'S', '%', '2', '0', 'S', 'm', 'i', 't', 'h']\n",
      "['m', 'r', ' ', 'J', 'o', 'h', 'n', ' ', 'S', '%', '2', '0', 'S', 'm', 'i', 't', 'h']\n",
      "Current element is n\n",
      "Smap the value to the index - 1\n",
      "['m', 'r', ' ', 'J', 'o', 'h', 'n', ' ', 'n', '%', '2', '0', 'S', 'm', 'i', 't', 'h']\n",
      "['m', 'r', ' ', 'J', 'o', 'h', 'n', ' ', 'n', '%', '2', '0', 'S', 'm', 'i', 't', 'h']\n",
      "Current element is h\n",
      "Smap the value to the index - 1\n",
      "['m', 'r', ' ', 'J', 'o', 'h', 'n', 'h', 'n', '%', '2', '0', 'S', 'm', 'i', 't', 'h']\n",
      "['m', 'r', ' ', 'J', 'o', 'h', 'n', 'h', 'n', '%', '2', '0', 'S', 'm', 'i', 't', 'h']\n",
      "Current element is o\n",
      "Smap the value to the index - 1\n",
      "['m', 'r', ' ', 'J', 'o', 'h', 'o', 'h', 'n', '%', '2', '0', 'S', 'm', 'i', 't', 'h']\n",
      "['m', 'r', ' ', 'J', 'o', 'h', 'o', 'h', 'n', '%', '2', '0', 'S', 'm', 'i', 't', 'h']\n",
      "Current element is J\n",
      "Smap the value to the index - 1\n",
      "['m', 'r', ' ', 'J', 'o', 'J', 'o', 'h', 'n', '%', '2', '0', 'S', 'm', 'i', 't', 'h']\n",
      "['m', 'r', ' ', 'J', 'o', 'J', 'o', 'h', 'n', '%', '2', '0', 'S', 'm', 'i', 't', 'h']\n",
      "Current element is Null\n",
      "Now going to insert '%20'\n",
      "['m', 'r', '%', '2', '0', 'J', 'o', 'h', 'n', '%', '2', '0', 'S', 'm', 'i', 't', 'h']\n",
      "['m', 'r', '%', '2', '0', 'J', 'o', 'h', 'n', '%', '2', '0', 'S', 'm', 'i', 't', 'h']\n",
      "Current element is r\n",
      "Smap the value to the index - 1\n",
      "['m', 'r', '%', '2', '0', 'J', 'o', 'h', 'n', '%', '2', '0', 'S', 'm', 'i', 't', 'h']\n",
      "['m', 'r', '%', '2', '0', 'J', 'o', 'h', 'n', '%', '2', '0', 'S', 'm', 'i', 't', 'h']\n",
      "Current element is m\n",
      "Smap the value to the index - 1\n",
      "['m', 'r', '%', '2', '0', 'J', 'o', 'h', 'n', '%', '2', '0', 'S', 'm', 'i', 't', 'h']\n"
     ]
    },
    {
     "data": {
      "text/plain": [
       "'mr%20John%20Smith'"
      ]
     },
     "execution_count": 38,
     "metadata": {},
     "output_type": "execute_result"
    }
   ],
   "source": [
    "URLify2(\"mr John Smith   \",13)"
   ]
  },
  {
   "cell_type": "code",
   "execution_count": 39,
   "id": "71c2ebb4-4f1a-439e-a3d4-b7b017a9a230",
   "metadata": {
    "tags": []
   },
   "outputs": [
    {
     "data": {
      "text/plain": [
       "16"
      ]
     },
     "execution_count": 39,
     "metadata": {},
     "output_type": "execute_result"
    }
   ],
   "source": [
    "len(list(\"mr John Smith   \"))"
   ]
  },
  {
   "cell_type": "markdown",
   "id": "068b0b3b-4e55-4ef4-a309-3770ed0b1920",
   "metadata": {},
   "source": [
    "## String is Palindrome"
   ]
  },
  {
   "cell_type": "code",
   "execution_count": 40,
   "id": "559f2a81-6a08-41eb-83de-e82ba4a7bf41",
   "metadata": {
    "tags": []
   },
   "outputs": [],
   "source": [
    "def palindromeString(s):\n",
    "    i = 0\n",
    "    j = len(s) - 1\n",
    "    while i < j:\n",
    "        if s[i] != s[j]: return False\n",
    "        i += 1\n",
    "        j -= 1\n",
    "    return True"
   ]
  },
  {
   "cell_type": "code",
   "execution_count": 41,
   "id": "05deeeb6-0f36-4e20-bcbc-6b835f5927f4",
   "metadata": {
    "tags": []
   },
   "outputs": [
    {
     "data": {
      "text/plain": [
       "True"
      ]
     },
     "execution_count": 41,
     "metadata": {},
     "output_type": "execute_result"
    }
   ],
   "source": [
    "palindromeString(\"hello olleh\")"
   ]
  },
  {
   "cell_type": "markdown",
   "id": "0927c409-c63f-4455-bd8b-11b558909be5",
   "metadata": {},
   "source": [
    "## Permutation Palindrome\n",
    "    * if the permutation is palindrome then it should have 2 values of each element\n",
    "    * if the len(s) is odd that means it has even number and 1 space :\n",
    "        * This situation must contain 2 element of each\n",
    "    * if teh len(s) is eveen that means it has odd number and 1 space:\n",
    "        * This situtation must contains 1 element of count 1 and else all element of count 2"
   ]
  },
  {
   "cell_type": "code",
   "execution_count": 42,
   "id": "f222a4aa-1112-4d23-b1e4-f08869aec753",
   "metadata": {
    "tags": []
   },
   "outputs": [],
   "source": [
    "def PaliPermu(s, n):\n",
    "    # let's use hasdhmap\n",
    "    mp = {}\n",
    "    for i in s:\n",
    "        if i == ' ':\n",
    "            continue\n",
    "        if i not in mp:\n",
    "            mp[i] = 1\n",
    "        else:\n",
    "            mp[i] += 1\n",
    "    if n % 2 == 0:\n",
    "        print(mp)\n",
    "        print(mp.values())\n",
    "        if list(mp.values()).count(1) > 1:\n",
    "            return False\n",
    "        else:\n",
    "            return True\n",
    "    elif n % 2 != 0:\n",
    "        print(mp)\n",
    "        print(mp.values())\n",
    "        if list(mp.values()).count(2) == len(mp.values()):\n",
    "            return True\n",
    "        else:\n",
    "            return False"
   ]
  },
  {
   "cell_type": "code",
   "execution_count": 43,
   "id": "cce452be-b838-4684-ba1a-ef6af3969a3f",
   "metadata": {
    "tags": []
   },
   "outputs": [
    {
     "name": "stdout",
     "output_type": "stream",
     "text": [
      "{'t': 2, 'c': 2, 'p': 2}\n",
      "dict_values([2, 2, 2])\n"
     ]
    },
    {
     "data": {
      "text/plain": [
       "True"
      ]
     },
     "execution_count": 43,
     "metadata": {},
     "output_type": "execute_result"
    }
   ],
   "source": [
    "PaliPermu('tcp pct',7)"
   ]
  },
  {
   "cell_type": "code",
   "execution_count": 44,
   "id": "38e08cc0-235c-49e2-9707-6be624c42ff0",
   "metadata": {
    "tags": []
   },
   "outputs": [
    {
     "name": "stdout",
     "output_type": "stream",
     "text": [
      "{'t': 2, 'a': 2, 'c': 2, 'o': 1}\n",
      "dict_values([2, 2, 2, 1])\n"
     ]
    },
    {
     "data": {
      "text/plain": [
       "True"
      ]
     },
     "execution_count": 44,
     "metadata": {},
     "output_type": "execute_result"
    }
   ],
   "source": [
    "PaliPermu('tact coa',8)"
   ]
  },
  {
   "cell_type": "markdown",
   "id": "dc2348b0-065d-4a45-b68d-ab6fd82203bb",
   "metadata": {},
   "source": [
    "## One Way"
   ]
  },
  {
   "cell_type": "code",
   "execution_count": 45,
   "id": "4bb47bbc-a339-46c7-a60c-4a23c666738e",
   "metadata": {
    "tags": []
   },
   "outputs": [],
   "source": [
    "def oneEditAway(s1,s2):\n",
    "    if len(s1) == len(s2):\n",
    "        return oneEditReplace(s1, s2)\n",
    "    elif len(s1) + 1 == len(s2):\n",
    "        return oneEditInsert(s1, s2)\n",
    "    elif len(s1) - 1 == len(s2):\n",
    "        return oneEditInsert(s2, s1)\n",
    "def oneEditReplace(s1, s2):\n",
    "    foundDiff = False # set the flag which turns True one single time\n",
    "    for i in range(len(s1)):\n",
    "        if s1[i] != s2[i]:\n",
    "            if foundDiff:\n",
    "                return False\n",
    "            foundDiff = True\n",
    "    return True\n",
    "def oneEditInsert(s1,s2):\n",
    "    index1 = 0\n",
    "    index2 = 0\n",
    "    while index2 < len(s2) and index1 < len(s1):\n",
    "        if s1[index1] != s2[index2]:\n",
    "            if index1 != index2:\n",
    "                return False\n",
    "            index2 += 1\n",
    "        else:\n",
    "            index1 += 1\n",
    "            index2 += 1\n",
    "    return True"
   ]
  },
  {
   "cell_type": "code",
   "execution_count": 46,
   "id": "4d61842a-2ab5-4bcb-8dbd-851df1058ae7",
   "metadata": {
    "tags": []
   },
   "outputs": [
    {
     "data": {
      "text/plain": [
       "True"
      ]
     },
     "execution_count": 46,
     "metadata": {},
     "output_type": "execute_result"
    }
   ],
   "source": [
    "oneEditAway('bale','pale') # replace"
   ]
  },
  {
   "cell_type": "code",
   "execution_count": 47,
   "id": "249a9e79-9e0c-48f6-b009-7e5bb6591917",
   "metadata": {
    "tags": []
   },
   "outputs": [
    {
     "data": {
      "text/plain": [
       "True"
      ]
     },
     "execution_count": 47,
     "metadata": {},
     "output_type": "execute_result"
    }
   ],
   "source": [
    "oneEditAway('bal', 'bale') # insert on s1"
   ]
  },
  {
   "cell_type": "code",
   "execution_count": 48,
   "id": "cd195781-5a27-40b0-b8f5-dd111bddd479",
   "metadata": {
    "tags": []
   },
   "outputs": [
    {
     "data": {
      "text/plain": [
       "True"
      ]
     },
     "execution_count": 48,
     "metadata": {},
     "output_type": "execute_result"
    }
   ],
   "source": [
    "oneEditAway('bale', 'bal') # insert on s2"
   ]
  },
  {
   "cell_type": "markdown",
   "id": "56fd6266-4544-4bda-a5e2-e469932c1eca",
   "metadata": {},
   "source": [
    "# let's make single method for all\n",
    "    * Replace function just using the flag register\n",
    "    * Insert method comparing\n",
    "We can do the both functions in a single method"
   ]
  },
  {
   "cell_type": "code",
   "execution_count": 49,
   "id": "0d3c5a46-4a63-428e-a370-4e5912342633",
   "metadata": {
    "tags": []
   },
   "outputs": [],
   "source": [
    "def oneEditAway2(first, second):\n",
    "    if abs(len(first) - len(second)) > 1: return False\n",
    "    s1 = first if len(first) < len(second) else second\n",
    "    s2 = second if len(first) < len(second) else first\n",
    "    print(s1, s2)\n",
    "    foundDiffer = False\n",
    "    index1 = 0 \n",
    "    index2 = 0\n",
    "    while index1 < len(s1) and index2 < len(s2):\n",
    "        if s1[index1] != s2[index2]:\n",
    "            if foundDiffer: return False\n",
    "            foundDiffer = True\n",
    "            if len(s1) == len(s2):\n",
    "                index1 += 1\n",
    "        else:\n",
    "            index1 += 1\n",
    "        index2 += 1\n",
    "    return True"
   ]
  },
  {
   "cell_type": "code",
   "execution_count": 50,
   "id": "0732379c-2170-442b-acdd-831e3f100148",
   "metadata": {
    "tags": []
   },
   "outputs": [
    {
     "name": "stdout",
     "output_type": "stream",
     "text": [
      "pale bale\n"
     ]
    },
    {
     "data": {
      "text/plain": [
       "True"
      ]
     },
     "execution_count": 50,
     "metadata": {},
     "output_type": "execute_result"
    }
   ],
   "source": [
    "oneEditAway2('bale','pale') # replace"
   ]
  },
  {
   "cell_type": "code",
   "execution_count": 51,
   "id": "d4fd17fd-8a98-40ea-9948-44abf8f7dd26",
   "metadata": {
    "tags": []
   },
   "outputs": [
    {
     "name": "stdout",
     "output_type": "stream",
     "text": [
      "bal bale\n"
     ]
    },
    {
     "data": {
      "text/plain": [
       "True"
      ]
     },
     "execution_count": 51,
     "metadata": {},
     "output_type": "execute_result"
    }
   ],
   "source": [
    "oneEditAway2('bal', 'bale') # insert on s1"
   ]
  },
  {
   "cell_type": "code",
   "execution_count": 52,
   "id": "eb1f94ae-a983-40e7-826c-f38da613e69f",
   "metadata": {
    "tags": []
   },
   "outputs": [
    {
     "name": "stdout",
     "output_type": "stream",
     "text": [
      "bal bale\n"
     ]
    },
    {
     "data": {
      "text/plain": [
       "True"
      ]
     },
     "execution_count": 52,
     "metadata": {},
     "output_type": "execute_result"
    }
   ],
   "source": [
    "oneEditAway2('bale', 'bal') # insert on s2"
   ]
  },
  {
   "cell_type": "markdown",
   "id": "61806815-9ea5-445b-a64c-c2c89c302e6b",
   "metadata": {},
   "source": [
    "## String Compression"
   ]
  },
  {
   "cell_type": "code",
   "execution_count": 53,
   "id": "22d6829a-4a1f-4d8d-9027-ad66b5f1089b",
   "metadata": {
    "tags": []
   },
   "outputs": [],
   "source": [
    "def stringCompress(s):\n",
    "    mp = {}\n",
    "    for i in s:\n",
    "        if i not in mp:\n",
    "            mp[i] = 1\n",
    "        else:\n",
    "            mp[i] += 1\n",
    "    s1 = \"\"\n",
    "    for i in mp.keys():\n",
    "        s1 += i\n",
    "        s1 += str(mp[i])\n",
    "    return s1"
   ]
  },
  {
   "cell_type": "code",
   "execution_count": 54,
   "id": "8a63aa20-a7e6-42c3-bdda-369802191ca8",
   "metadata": {
    "tags": []
   },
   "outputs": [
    {
     "data": {
      "text/plain": [
       "'a4b4c5d5'"
      ]
     },
     "execution_count": 54,
     "metadata": {},
     "output_type": "execute_result"
    }
   ],
   "source": [
    "stringCompress(\"aaaabbbbcccccddddd\")"
   ]
  },
  {
   "cell_type": "code",
   "execution_count": 55,
   "id": "50f9d094-541b-4523-a506-043cbfacbdfa",
   "metadata": {
    "tags": []
   },
   "outputs": [
    {
     "data": {
      "text/plain": [
       "'a3k3l1j3'"
      ]
     },
     "execution_count": 55,
     "metadata": {},
     "output_type": "execute_result"
    }
   ],
   "source": [
    "stringCompress(\"aaakkkljjj\")"
   ]
  },
  {
   "cell_type": "code",
   "execution_count": 56,
   "id": "939b07f9-4c18-473e-a8aa-fb161d17afe2",
   "metadata": {},
   "outputs": [],
   "source": [
    "def stringCompress2(s):\n",
    "    cs = \"\"\n",
    "    counter = 0\n",
    "    for i in range(len(s)):\n",
    "        counter += 1\n",
    "        if i + 1 > (len(s) - 1) or s[i] != s[i+1]:\n",
    "            cs += s[i] + str(counter)\n",
    "            counter = 0\n",
    "    return cs\n",
    "# here the concatentaion takes O(n^2) time complexity refer to CTCI page no 89"
   ]
  },
  {
   "cell_type": "code",
   "execution_count": 57,
   "id": "94708699-5b3f-42ad-98b6-5b3f7f00602e",
   "metadata": {
    "tags": []
   },
   "outputs": [
    {
     "data": {
      "text/plain": [
       "'a3b3c3'"
      ]
     },
     "execution_count": 57,
     "metadata": {},
     "output_type": "execute_result"
    }
   ],
   "source": [
    "stringCompress2(\"aaabbbccc\")"
   ]
  },
  {
   "cell_type": "code",
   "execution_count": 58,
   "id": "730453b0-ff9c-4d7d-a569-9b2ed8595a35",
   "metadata": {
    "tags": []
   },
   "outputs": [],
   "source": [
    "# let's replace it by using Array (StringBuilder 🔥💪🏻)\n",
    "def stringCompress3(s):\n",
    "    cs = []\n",
    "    counter = 0\n",
    "    for i in range(len(s)):\n",
    "        counter += 1\n",
    "        if i + 1 > (len(s) - 1) or s[i] != s[i+1]:\n",
    "            cs.append(s[i])\n",
    "            cs.append(str(counter))\n",
    "            counter = 0\n",
    "    return \"\".join(cs)"
   ]
  },
  {
   "cell_type": "code",
   "execution_count": 59,
   "id": "242bba61-285c-43ed-936c-d0133bac559c",
   "metadata": {
    "tags": []
   },
   "outputs": [
    {
     "data": {
      "text/plain": [
       "'a3b3c3'"
      ]
     },
     "execution_count": 59,
     "metadata": {},
     "output_type": "execute_result"
    }
   ],
   "source": [
    "stringCompress3(\"aaabbbccc\")"
   ]
  },
  {
   "cell_type": "code",
   "execution_count": 60,
   "id": "574167af-5515-4067-8e1e-14b895e095f7",
   "metadata": {
    "tags": []
   },
   "outputs": [],
   "source": [
    "# we can also do the thing to just check the compress string length before and then go on with it\n",
    "def compressString(s):\n",
    "    cs = 0\n",
    "    counter = 0\n",
    "    for i in range(len(s)):\n",
    "        counter += 1\n",
    "        if (i+1) > (len(s) - 1) or s[i] != s[i+1]:\n",
    "            cs += 2\n",
    "            counter = 0\n",
    "            \n",
    "    return cs\n",
    "def stringCompress4(s):\n",
    "    finallength = compressString(s)\n",
    "    if finallength > len(s): return s\n",
    "    compress = []\n",
    "    counter = 0\n",
    "    for i in range(len(s)):\n",
    "        counter += 1\n",
    "        if (i + 1) > (len(s) - 1) or s[i] != s[i+1]:\n",
    "            compress.append(s[i])\n",
    "            compress.append(str(counter))\n",
    "            counter = 0\n",
    "    return \"\".join(compress)"
   ]
  },
  {
   "cell_type": "code",
   "execution_count": 61,
   "id": "7d7cc18a-d0b9-40ce-a482-db4e629ca653",
   "metadata": {
    "tags": []
   },
   "outputs": [
    {
     "data": {
      "text/plain": [
       "'a3b3c4'"
      ]
     },
     "execution_count": 61,
     "metadata": {},
     "output_type": "execute_result"
    }
   ],
   "source": [
    "stringCompress4(\"aaabbbcccc\")"
   ]
  },
  {
   "cell_type": "code",
   "execution_count": 62,
   "id": "4dc0eb3c-d3f4-4bca-9b79-dec4d0d38ba4",
   "metadata": {
    "tags": []
   },
   "outputs": [
    {
     "data": {
      "text/plain": [
       "'abcdefggggggg'"
      ]
     },
     "execution_count": 62,
     "metadata": {},
     "output_type": "execute_result"
    }
   ],
   "source": [
    "stringCompress4('abcdefggggggg')"
   ]
  },
  {
   "cell_type": "code",
   "execution_count": 63,
   "id": "bbda1a16-3a1c-4922-b418-6def339cb585",
   "metadata": {
    "tags": []
   },
   "outputs": [],
   "source": [
    "# leetcode question\n",
    "def stringCompress5(chars):\n",
    "    n = len(chars)\n",
    "    if n <= 1: return n\n",
    "    write = anchor = 0\n",
    "    # write specifies the position to update the element\n",
    "    # anchor specifies the starting value of a group\n",
    "    count = 1\n",
    "    for i in range(1, n):\n",
    "        if chars[i] == chars[anchor]:\n",
    "            count += 1\n",
    "        else:\n",
    "            chars[write] = chars[anchor]\n",
    "            write += 1\n",
    "            if count > 1:\n",
    "                for digit in str(count):\n",
    "                    chars[write] = digit\n",
    "                    write += 1\n",
    "            anchor = i\n",
    "            count = 1\n",
    "    chars[write] = chars[anchor]\n",
    "    write += 1\n",
    "    if count > 1:\n",
    "        for digit in str(count):\n",
    "            chars[write] = digit\n",
    "            write += 1\n",
    "    return write"
   ]
  },
  {
   "cell_type": "code",
   "execution_count": 64,
   "id": "454ef085-6bab-4816-a585-2b417da71992",
   "metadata": {},
   "outputs": [
    {
     "name": "stdout",
     "output_type": "stream",
     "text": [
      "Successfully added to the comment list\n"
     ]
    }
   ],
   "source": [
    "z.new(\"Zero Matrix\")"
   ]
  },
  {
   "cell_type": "markdown",
   "id": "99f89c8f-f28a-4a6a-8207-727fed7d2cf1",
   "metadata": {},
   "source": [
    "## Zero Matrix"
   ]
  },
  {
   "cell_type": "code",
   "execution_count": 65,
   "id": "6b55df3f-4260-4968-8add-274f7a41680c",
   "metadata": {
    "tags": []
   },
   "outputs": [],
   "source": [
    "matrix = [[1,2,0],\n",
    "          [3,4,5],\n",
    "          [0,6,7]]"
   ]
  },
  {
   "cell_type": "code",
   "execution_count": 66,
   "id": "59a900d4-c46f-45d7-8b2a-678acd1c13e8",
   "metadata": {
    "tags": []
   },
   "outputs": [
    {
     "data": {
      "text/plain": [
       "[[1, 2, 0], [3, 4, 5], [0, 6, 7]]"
      ]
     },
     "execution_count": 66,
     "metadata": {},
     "output_type": "execute_result"
    }
   ],
   "source": [
    "matrix"
   ]
  },
  {
   "cell_type": "code",
   "execution_count": 67,
   "id": "f4d097ae-54a6-4a84-a148-e264d3924723",
   "metadata": {
    "tags": []
   },
   "outputs": [],
   "source": [
    "def zeroMatrix(matrix):\n",
    "    nrows = len(matrix)\n",
    "    ncols = len(matrix[0])\n",
    "    rows = [False] * nrows\n",
    "    cols = [False] * ncols\n",
    "    for i in range(nrows):\n",
    "        for j in range(ncols):\n",
    "            if matrix[i][j] == 0:\n",
    "                rows[i] = True\n",
    "                cols[j] = True\n",
    "    # NUllify Rows\n",
    "    print(matrix)\n",
    "    for i in range(nrows):\n",
    "        if rows[i]: nullifyRows(matrix, i, ncols)\n",
    "    # NUllify Cols\n",
    "    print(matrix)\n",
    "    for j in range(ncols):\n",
    "        if cols[j]: nullifyCols(matrix, j, nrows)\n",
    "    print(matrix)\n",
    "def nullifyRows(matrix, row, ncols):\n",
    "    for j in range(ncols):\n",
    "        matrix[row][j] = 0\n",
    "def nullifyCols(matrix, col, nrows):\n",
    "    for i in range(nrows):\n",
    "        matrix[i][col] = 0"
   ]
  },
  {
   "cell_type": "code",
   "execution_count": 68,
   "id": "eb3af596-2654-476e-ae54-992d10acb35a",
   "metadata": {
    "tags": []
   },
   "outputs": [
    {
     "name": "stdout",
     "output_type": "stream",
     "text": [
      "[[1, 2, 0], [3, 4, 5], [0, 6, 7]]\n",
      "[[0, 0, 0], [3, 4, 5], [0, 0, 0]]\n",
      "[[0, 0, 0], [0, 4, 0], [0, 0, 0]]\n"
     ]
    }
   ],
   "source": [
    "zeroMatrix(matrix)"
   ]
  },
  {
   "cell_type": "code",
   "execution_count": 69,
   "id": "83a860e0-3c9a-45e8-9191-b8bd2724eedc",
   "metadata": {
    "tags": []
   },
   "outputs": [],
   "source": [
    "def setZero(matrix):\n",
    "    print(matrix)\n",
    "    rowZero = False\n",
    "    colZero = False\n",
    "    nrows = len(matrix)\n",
    "    ncols = len(matrix[0])\n",
    "    # check for rowZero\n",
    "    for j in range(ncols):\n",
    "        if matrix[0][j] == 0:\n",
    "            rowZero = True\n",
    "            break\n",
    "    # check for colZero\n",
    "    for i in range(nrows):\n",
    "        if matrix[i][0] == 0:\n",
    "            colZero = True\n",
    "            break\n",
    "    # now check for all values and append to first row and column as zero\n",
    "    for i in range(1, nrows):\n",
    "        for j in range(1, ncols):\n",
    "            if matrix[i][j] == 0:\n",
    "                matrix[i][0] = 0\n",
    "                matrix[0][j] = 0\n",
    "    # now check for the first row and nullify row\n",
    "    for j in range(ncols):\n",
    "        if matrix[0][j] == 0:\n",
    "            nullifyRows(matrix, j, ncols)\n",
    "    # now check for the first column and nulify cols\n",
    "    for i in range(nrows):\n",
    "        if matrix[i][0] == 0:\n",
    "            nullifyCols(matrix, i, nrows)\n",
    "    # now check for flag values\n",
    "    if rowZero: nullifyRows(matrix, 0, ncols)\n",
    "    if colZero: nullifyCols(matrix, 0, nrows)\n",
    "    print(matrix)"
   ]
  },
  {
   "cell_type": "code",
   "execution_count": 70,
   "id": "f8eabc33-26f8-45e9-9d0c-e4391b571bc6",
   "metadata": {
    "tags": []
   },
   "outputs": [],
   "source": [
    "matrix = [[1,2,0],\n",
    "          [3,4,5],\n",
    "          [0,6,7]]"
   ]
  },
  {
   "cell_type": "code",
   "execution_count": 71,
   "id": "2982dc7c-d029-461b-a7fd-60810617d9e3",
   "metadata": {
    "tags": []
   },
   "outputs": [
    {
     "name": "stdout",
     "output_type": "stream",
     "text": [
      "[[1, 2, 0], [3, 4, 5], [0, 6, 7]]\n",
      "[[0, 0, 0], [0, 4, 0], [0, 0, 0]]\n"
     ]
    }
   ],
   "source": [
    "setZero(matrix)"
   ]
  },
  {
   "cell_type": "code",
   "execution_count": 72,
   "id": "0b1a751e-c128-4492-9e19-3bfc3180f1b0",
   "metadata": {
    "tags": []
   },
   "outputs": [
    {
     "name": "stdout",
     "output_type": "stream",
     "text": [
      "Successfully added to the comment list\n"
     ]
    }
   ],
   "source": [
    "z.new(\"String Rotation\")"
   ]
  },
  {
   "cell_type": "markdown",
   "id": "b9586f6b-9fd4-4e47-953d-1b362dbf25ec",
   "metadata": {},
   "source": [
    "## String Rotation"
   ]
  },
  {
   "cell_type": "code",
   "execution_count": 73,
   "id": "ada3ade9-bfb8-418a-aa25-46910dd434d6",
   "metadata": {
    "tags": []
   },
   "outputs": [],
   "source": [
    "s1 = \"waterbottele\"\n",
    "s2 = \"erbottelewat\""
   ]
  },
  {
   "cell_type": "code",
   "execution_count": 74,
   "id": "3ac73bd2-a32a-46bd-96ee-23cc551ef571",
   "metadata": {
    "tags": []
   },
   "outputs": [],
   "source": [
    "def stringRotation1(s1, s2):\n",
    "    for i in s1:\n",
    "        if i not in s2:\n",
    "            return False\n",
    "    return True"
   ]
  },
  {
   "cell_type": "code",
   "execution_count": 75,
   "id": "75119d43-2aa9-469f-a32c-bb3e44959068",
   "metadata": {
    "tags": []
   },
   "outputs": [
    {
     "data": {
      "text/plain": [
       "True"
      ]
     },
     "execution_count": 75,
     "metadata": {},
     "output_type": "execute_result"
    }
   ],
   "source": [
    "stringRotation1(s1, s2)"
   ]
  },
  {
   "cell_type": "code",
   "execution_count": 76,
   "id": "5135824f-adbc-4adb-9b30-5eb163815ece",
   "metadata": {
    "tags": []
   },
   "outputs": [],
   "source": [
    "def stringRotation2(s1, s2):\n",
    "    return set(s1) == set(s2)"
   ]
  },
  {
   "cell_type": "code",
   "execution_count": 77,
   "id": "8a607609-f3e3-4b22-b552-2a2536e9f764",
   "metadata": {
    "tags": []
   },
   "outputs": [
    {
     "data": {
      "text/plain": [
       "True"
      ]
     },
     "execution_count": 77,
     "metadata": {},
     "output_type": "execute_result"
    }
   ],
   "source": [
    "stringRotation2(s1, s2)"
   ]
  },
  {
   "cell_type": "code",
   "execution_count": 78,
   "id": "8e78f80f-aa74-4d9a-b443-2a6fc2feb223",
   "metadata": {
    "tags": []
   },
   "outputs": [],
   "source": [
    "def stringRotation3(s1, s2):\n",
    "    return sorted(s1) == sorted(s2)"
   ]
  },
  {
   "cell_type": "code",
   "execution_count": 79,
   "id": "19912b68-c91f-4293-bbf8-b1ddd4544c39",
   "metadata": {
    "tags": []
   },
   "outputs": [
    {
     "data": {
      "text/plain": [
       "True"
      ]
     },
     "execution_count": 79,
     "metadata": {},
     "output_type": "execute_result"
    }
   ],
   "source": [
    "stringRotation3(s1, s2)"
   ]
  },
  {
   "cell_type": "code",
   "execution_count": 80,
   "id": "9f6b5257-d7a8-4967-906e-000dc0df2d7e",
   "metadata": {
    "tags": []
   },
   "outputs": [],
   "source": [
    "def stringRotation4(s1, s2):\n",
    "    n = len(s1)\n",
    "    if len(s2) == n and n > 0:\n",
    "        # concatenate string\n",
    "        val = s1 + s1\n",
    "        return s2 in val"
   ]
  },
  {
   "cell_type": "code",
   "execution_count": 81,
   "id": "5f4179d7-ad0c-4689-8e6e-974d78b2617c",
   "metadata": {
    "tags": []
   },
   "outputs": [
    {
     "data": {
      "text/plain": [
       "True"
      ]
     },
     "execution_count": 81,
     "metadata": {},
     "output_type": "execute_result"
    }
   ],
   "source": [
    "stringRotation4(s1, s2)"
   ]
  },
  {
   "cell_type": "code",
   "execution_count": null,
   "id": "48b2c33f-6369-4a5c-a385-e391a719c262",
   "metadata": {},
   "outputs": [],
   "source": []
  }
 ],
 "metadata": {
  "kernelspec": {
   "display_name": "Python 3 (ipykernel)",
   "language": "python",
   "name": "python3"
  },
  "language_info": {
   "codemirror_mode": {
    "name": "ipython",
    "version": 3
   },
   "file_extension": ".py",
   "mimetype": "text/x-python",
   "name": "python",
   "nbconvert_exporter": "python",
   "pygments_lexer": "ipython3",
   "version": "3.10.10"
  }
 },
 "nbformat": 4,
 "nbformat_minor": 5
}
