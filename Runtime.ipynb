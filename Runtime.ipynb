{
 "cells": [
  {
   "cell_type": "markdown",
   "id": "01998a46-4746-4fc3-8673-18da1e61c44c",
   "metadata": {},
   "source": [
    "# What will be the runtime of the below code ?"
   ]
  },
  {
   "cell_type": "code",
   "execution_count": 1,
   "id": "bca5603b-6298-4e6f-beb4-8716868f4ca8",
   "metadata": {},
   "outputs": [],
   "source": [
    "def foo(arr):\n",
    "    sum = 0\n",
    "    product = 1\n",
    "    for i in range(len(arr)):\n",
    "        sum += arr[i]\n",
    "    for i in range(len(arr)):\n",
    "        product *= arr[i]\n",
    "    print(f\"Sum : {sum} and product is {product}\")"
   ]
  },
  {
   "cell_type": "code",
   "execution_count": 2,
   "id": "f4c5a3b9-79cc-41e0-a976-661dda26da50",
   "metadata": {},
   "outputs": [
    {
     "name": "stdout",
     "output_type": "stream",
     "text": [
      "Sum : 20 and product is 720\n"
     ]
    }
   ],
   "source": [
    "foo([2,3,4,5,6])"
   ]
  },
  {
   "cell_type": "code",
   "execution_count": null,
   "id": "b354a3e5-c0a7-4622-9d53-df2dc86bacfe",
   "metadata": {},
   "outputs": [],
   "source": []
  },
  {
   "cell_type": "code",
   "execution_count": null,
   "id": "1d0e697a",
   "metadata": {},
   "outputs": [],
   "source": []
  }
 ],
 "metadata": {
  "kernelspec": {
   "display_name": "Python 3 (ipykernel)",
   "language": "python",
   "name": "python3"
  },
  "language_info": {
   "codemirror_mode": {
    "name": "ipython",
    "version": 3
   },
   "file_extension": ".py",
   "mimetype": "text/x-python",
   "name": "python",
   "nbconvert_exporter": "python",
   "pygments_lexer": "ipython3",
   "version": "3.10.10"
  }
 },
 "nbformat": 4,
 "nbformat_minor": 5
}
