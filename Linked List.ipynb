{
 "cells": [
  {
   "cell_type": "markdown",
   "id": "03b1e847-5d95-47b7-a1e5-86dd91bcf0bc",
   "metadata": {},
   "source": [
    "# LinkedList\n",
    "\n",
    "## Time Complexity\n",
    "\n",
    "## Singly Linked List\n",
    "|Operations|Worst Case|Average Case|\n",
    "|:------|:--------:|:-------:|\n",
    "|Insertion|$O(n)$|$θ(n)$|\n",
    "|Deletion|$O(n)$|$θ(n)$|\n",
    "|Searching|$O(n)$|$θ(n)$|\n",
    "|Access|$O(1)$|$θ(1)$|\n",
    "\n",
    "Θ(n)\tΘ(n)\tΘ(1)\tΘ(1)\tO(n)\tO(n)\tO(1)\tO(1)\tO(n)\n",
    "\n",
    "## Space Complexity:\n",
    "Worst Case --> $O(n)$"
   ]
  },
  {
   "cell_type": "code",
   "execution_count": null,
   "id": "cc70f02d-3645-4e72-af62-2e3838b2daa4",
   "metadata": {},
   "outputs": [],
   "source": []
  }
 ],
 "metadata": {
  "kernelspec": {
   "display_name": "Python 3 (ipykernel)",
   "language": "python",
   "name": "python3"
  },
  "language_info": {
   "codemirror_mode": {
    "name": "ipython",
    "version": 3
   },
   "file_extension": ".py",
   "mimetype": "text/x-python",
   "name": "python",
   "nbconvert_exporter": "python",
   "pygments_lexer": "ipython3",
   "version": "3.10.10"
  }
 },
 "nbformat": 4,
 "nbformat_minor": 5
}
