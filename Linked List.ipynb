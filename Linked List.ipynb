{
 "cells": [
  {
   "cell_type": "code",
   "execution_count": 1,
   "id": "aadadfac-48f5-40d6-bc67-d4e2c534b51b",
   "metadata": {
    "tags": []
   },
   "outputs": [
    {
     "name": "stdout",
     "output_type": "stream",
     "text": [
      "Note that after executing new function your next cell will automatically converted to markdown cell :)\n"
     ]
    }
   ],
   "source": [
    "%run imp_personal.py\n",
    "z = MyFunction()"
   ]
  },
  {
   "cell_type": "markdown",
   "id": "7a76c6c0-337d-40f2-b171-3f4450f0e28b",
   "metadata": {},
   "source": [
    "# LinkedList\n",
    "\n",
    "## Time Complexity\n",
    "\n",
    "<img src=\"img/graph of complexity.png\" width=\"700px\" height=\"700px\"/>\n",
    "\n",
    "## Singly Linked List 7 Doubly Linked List\n",
    "|Operations|Worst Case|Average Case|\n",
    "|:------|:--------:|:-------:|\n",
    "|Insertion|$O(1)$|$θ(1)$|\n",
    "|Deletion|$O(1)$|$θ(1)$|\n",
    "|Searching|$O(n)$|$θ(n)$|\n",
    "|Access|$O(n)$|$θ(n)$|\n",
    "\n",
    "## Space Complexity:\n",
    "Worst Case --> $O(n)$"
   ]
  },
  {
   "cell_type": "markdown",
   "id": "34def912-a6c0-4c5f-80f6-472b9785cac3",
   "metadata": {},
   "source": [
    "## Make the Below links clickable?\n",
    "[Click Me](https://nbviewer.org/github/ChandrashekharRobbi/CTCI-Python/blob/main/Linked%20List.ipynb?flush_cache=True)\n",
    "\n",
    "## Quick Links\n",
    "1. [Creating the node](#Creating-the-node)\n",
    "1. [Append to End ](#Append-to-End-)\n",
    "1. [Remove Dups](#Remove-Dups)\n",
    "1. [Return Kth to Last](#Return-Kth-to-Last)"
   ]
  },
  {
   "cell_type": "markdown",
   "id": "04bb9fee-8f46-4f7f-9e0d-e46ae1134915",
   "metadata": {},
   "source": [
    "## Creating the node"
   ]
  },
  {
   "cell_type": "code",
   "execution_count": 2,
   "id": "2ae2455e-b39e-4568-92d7-e5761105a051",
   "metadata": {
    "tags": []
   },
   "outputs": [],
   "source": [
    "class Node:\n",
    "    def __init__(self, data):\n",
    "        self.data = data\n",
    "        self.next = None"
   ]
  },
  {
   "cell_type": "markdown",
   "id": "948396de-9372-493e-bc52-4f71dea5b2d2",
   "metadata": {},
   "source": [
    "## Append to End "
   ]
  },
  {
   "cell_type": "code",
   "execution_count": 3,
   "id": "d0e00e26-2b60-4d19-a953-99919ce92113",
   "metadata": {
    "tags": []
   },
   "outputs": [],
   "source": [
    "def appendToTail(head, data):\n",
    "    if head == None: return Node(data)\n",
    "    curr = head\n",
    "    while curr.next != None:\n",
    "        curr = curr.next\n",
    "    curr.next = Node(data)\n",
    "    return head"
   ]
  },
  {
   "cell_type": "markdown",
   "id": "8e475e38-c4df-456c-9adc-3eb0bd9d7691",
   "metadata": {
    "tags": []
   },
   "source": [
    "## Print the LinkedList"
   ]
  },
  {
   "cell_type": "code",
   "execution_count": 4,
   "id": "ad341c9a-a811-416d-a483-589287d1f820",
   "metadata": {
    "tags": []
   },
   "outputs": [],
   "source": [
    "def printLink(root):\n",
    "    while root != None:\n",
    "        print(root.data, end=\" \")\n",
    "        root = root.next"
   ]
  },
  {
   "cell_type": "code",
   "execution_count": 5,
   "id": "3df505c6-e973-4841-b7e6-ebb67d12d1d2",
   "metadata": {
    "tags": []
   },
   "outputs": [],
   "source": [
    "def create_linked_list():\n",
    "    def insert(root, item):\n",
    "        temp = Node(item)\n",
    "\n",
    "        if(root == None):\n",
    "            root = temp\n",
    "        else:\n",
    "            ptr = root\n",
    "            while(ptr.next):\n",
    "                ptr = ptr.next\n",
    "            ptr.next = temp\n",
    "        return root\n",
    "    root = None\n",
    "    while True:\n",
    "        data = input(\"Enter data ('%' to stop): \")\n",
    "        if data == '%':\n",
    "            break\n",
    "        root = insert(root, int(data))\n",
    "    return root\n"
   ]
  },
  {
   "cell_type": "code",
   "execution_count": 6,
   "id": "6896b690-b719-413c-8f11-99ff80eaf85d",
   "metadata": {
    "tags": []
   },
   "outputs": [],
   "source": [
    "def create_linked_list_from_arr(arr):\n",
    "    def insert(root, item):\n",
    "        temp = Node(item)\n",
    "\n",
    "        if(root == None):\n",
    "            root = temp\n",
    "        else:\n",
    "            ptr = root\n",
    "            while(ptr.next):\n",
    "                ptr = ptr.next\n",
    "            ptr.next = temp\n",
    "        return root\n",
    "    root = None\n",
    "    for data in arr:\n",
    "        # data = input(\"Enter data ('%' to stop): \")\n",
    "        # if data == '%':\n",
    "        #     break\n",
    "        print(f\"Inserting value {data}\")\n",
    "        root = insert(root, int(data))\n",
    "    return root\n"
   ]
  },
  {
   "cell_type": "markdown",
   "id": "43feb857-6719-463b-bfed-3caa54bdb61b",
   "metadata": {},
   "source": [
    "## Remove Dups"
   ]
  },
  {
   "cell_type": "code",
   "execution_count": 7,
   "id": "2d8d7f73-8362-45af-a7ae-46a3f4b1a9a2",
   "metadata": {
    "tags": []
   },
   "outputs": [],
   "source": [
    "# create a linkedlist\n",
    "head = Node(4)\n",
    "head.next = Node(5)\n",
    "head.next.next = Node(4)\n",
    "head.next.next.next = Node(3)\n",
    "head.next.next.next.next = Node(3)\n"
   ]
  },
  {
   "cell_type": "code",
   "execution_count": 8,
   "id": "e3a94e8f-e0f8-461b-b4bf-406121824809",
   "metadata": {
    "tags": []
   },
   "outputs": [
    {
     "name": "stdout",
     "output_type": "stream",
     "text": [
      "4 5 4 3 3 "
     ]
    }
   ],
   "source": [
    "printLink(head)"
   ]
  },
  {
   "cell_type": "code",
   "execution_count": 9,
   "id": "4300e1ae-6659-4c61-be1e-0717810b37c4",
   "metadata": {
    "tags": []
   },
   "outputs": [],
   "source": [
    "# if local buffer is allowed\n",
    "def removeDups1(head):\n",
    "    set_v = set()\n",
    "    previous = None\n",
    "    while head != None:\n",
    "        if head.data in set_v:\n",
    "            previous.next = head.next\n",
    "        else:\n",
    "            set_v.add(head.data)\n",
    "            previous = head\n",
    "        head = head.next\n",
    "    return previous"
   ]
  },
  {
   "cell_type": "code",
   "execution_count": 10,
   "id": "da7b2a16-00cf-4df6-9c67-928755117446",
   "metadata": {
    "tags": []
   },
   "outputs": [
    {
     "name": "stdout",
     "output_type": "stream",
     "text": [
      "4 5 3 "
     ]
    }
   ],
   "source": [
    "# printLink(removeDups1(head))\n",
    "removeDups1(head)\n",
    "printLink(head)"
   ]
  },
  {
   "cell_type": "code",
   "execution_count": 11,
   "id": "62941da7-fc29-459d-a291-a50d2dc52ae5",
   "metadata": {
    "tags": []
   },
   "outputs": [],
   "source": [
    "# if local buffer is not allowed\n",
    "def removeDups2(head):\n",
    "    curr = head\n",
    "    while curr != None:\n",
    "        runner = curr\n",
    "        while runner.next != None:\n",
    "            if runner.next.data == curr.data:\n",
    "                runner.next = runner.next.next\n",
    "            else:\n",
    "                runner = runner.next\n",
    "        curr = curr.next\n",
    "    return head"
   ]
  },
  {
   "cell_type": "code",
   "execution_count": 12,
   "id": "d0be1b49-a65a-4f17-a256-0e645378eab4",
   "metadata": {
    "tags": []
   },
   "outputs": [
    {
     "name": "stdout",
     "output_type": "stream",
     "text": [
      "4 5 3 "
     ]
    }
   ],
   "source": [
    "# create a linkedlist\n",
    "head = Node(4)\n",
    "head.next = Node(5)\n",
    "head.next.next = Node(4)\n",
    "head.next.next.next = Node(3)\n",
    "head.next.next.next.next = Node(3)\n",
    "\n",
    "removeDups2(head)\n",
    "printLink(head)"
   ]
  },
  {
   "cell_type": "markdown",
   "id": "ea9f09f9-97ff-4df6-b408-1dbdf9afb80b",
   "metadata": {},
   "source": [
    "## Return Kth to Last"
   ]
  },
  {
   "cell_type": "code",
   "execution_count": 13,
   "id": "a3b6f497-6c42-4d56-9989-0db4cab5c9ca",
   "metadata": {
    "tags": []
   },
   "outputs": [],
   "source": [
    "def kthToLast1(head, k):\n",
    "    if head == None: return head\n",
    "    curr = head\n",
    "    counter = 0\n",
    "    while counter < k:\n",
    "        curr = curr.next\n",
    "        counter += 1\n",
    "    return curr"
   ]
  },
  {
   "cell_type": "code",
   "execution_count": 14,
   "id": "9d9ec4b0-22cc-4f06-90a1-3da34e6464ea",
   "metadata": {
    "tags": []
   },
   "outputs": [
    {
     "name": "stdout",
     "output_type": "stream",
     "text": [
      "4 5 4 3 3 7 "
     ]
    }
   ],
   "source": [
    "# create a linkedlist\n",
    "head = Node(4)\n",
    "head.next = Node(5)\n",
    "head.next.next = Node(4)\n",
    "head.next.next.next = Node(3)\n",
    "head.next.next.next.next = Node(3)\n",
    "head.next.next.next.next.next = Node(7)\n",
    "printLink(head)"
   ]
  },
  {
   "cell_type": "code",
   "execution_count": 15,
   "id": "981dea4c-135d-4390-a329-4b12436d682b",
   "metadata": {
    "tags": []
   },
   "outputs": [
    {
     "name": "stdout",
     "output_type": "stream",
     "text": [
      "3 3 7 "
     ]
    }
   ],
   "source": [
    "printLink(kthToLast1(head, 3))"
   ]
  },
  {
   "cell_type": "code",
   "execution_count": 16,
   "id": "d2169249-5190-4386-93e1-bd98ca094476",
   "metadata": {},
   "outputs": [],
   "source": [
    "def kthToLast2(root, k):\n",
    "    curr = root\n",
    "    for _ in range(k):\n",
    "        curr = curr.next\n",
    "    return curr"
   ]
  },
  {
   "cell_type": "code",
   "execution_count": 17,
   "id": "c89486b6-42d8-4a47-b133-da015b42bc99",
   "metadata": {
    "tags": []
   },
   "outputs": [
    {
     "name": "stdout",
     "output_type": "stream",
     "text": [
      "3 3 7 "
     ]
    }
   ],
   "source": [
    "printLink(kthToLast2(head, 3))"
   ]
  },
  {
   "cell_type": "markdown",
   "id": "6670db26-bad2-42c0-a415-20ca99d0dc52",
   "metadata": {},
   "source": [
    "### What if we have to return kth value from end of linkedlist??"
   ]
  },
  {
   "cell_type": "code",
   "execution_count": 18,
   "id": "b2416029-18d5-433b-8f58-167a9586d831",
   "metadata": {
    "tags": []
   },
   "outputs": [],
   "source": [
    "## Recursive \n",
    "def kthToLastRecur(root, k):\n",
    "    if root == None: return 0\n",
    "    index = kthToLastRecur(root.next, k) + 1 # here we are going till end and counting from backside\n",
    "    if index == k:\n",
    "        print(f\"{k} th to last node is {root.data}\")\n",
    "    return index"
   ]
  },
  {
   "cell_type": "code",
   "execution_count": 19,
   "id": "00d6e626-cf93-4905-b44e-32348dfd0a72",
   "metadata": {
    "tags": []
   },
   "outputs": [
    {
     "name": "stdout",
     "output_type": "stream",
     "text": [
      "3 th to last node is 3\n"
     ]
    },
    {
     "data": {
      "text/plain": [
       "6"
      ]
     },
     "execution_count": 19,
     "metadata": {},
     "output_type": "execute_result"
    }
   ],
   "source": [
    "kthToLastRecur(head, 3)"
   ]
  },
  {
   "cell_type": "code",
   "execution_count": 20,
   "id": "fc010885-151d-4aee-922d-57ee63b5ec45",
   "metadata": {
    "tags": []
   },
   "outputs": [
    {
     "name": "stdout",
     "output_type": "stream",
     "text": [
      "4 5 4 3 3 7 "
     ]
    }
   ],
   "source": [
    "printLink(head)"
   ]
  },
  {
   "cell_type": "code",
   "execution_count": 21,
   "id": "5eedd0b9-1eba-4c26-94a6-0e8182137e22",
   "metadata": {
    "tags": []
   },
   "outputs": [],
   "source": [
    "## By using Wrapper function\n",
    "class Index:\n",
    "    def __init__(self):\n",
    "        self.value = 0\n",
    "        \n",
    "def kthToLastRecur3(root, k, idx):\n",
    "    if root == None: return None\n",
    "    Node = kthToLastRecur3(root.next, k, idx)\n",
    "    idx.value += 1\n",
    "    if idx.value == k: return root\n",
    "    return Node\n",
    "\n",
    "def kthToLastRecur2(root, k):\n",
    "    idx = Index()\n",
    "    return kthToLastRecur3(root, k , idx)"
   ]
  },
  {
   "cell_type": "code",
   "execution_count": 22,
   "id": "fb20c562-4cef-4cc1-935c-45375d1e6b2a",
   "metadata": {
    "tags": []
   },
   "outputs": [
    {
     "name": "stdout",
     "output_type": "stream",
     "text": [
      "3 3 7 "
     ]
    }
   ],
   "source": [
    "printLink(kthToLastRecur2(head, 3))"
   ]
  },
  {
   "cell_type": "code",
   "execution_count": 23,
   "id": "f089004a-2100-47fb-af61-297574e5ab85",
   "metadata": {
    "tags": []
   },
   "outputs": [],
   "source": [
    "### Use iterative approach\n",
    "### Use 2 pointer method\n",
    "def kthtoLast3(root, k):\n",
    "    if root == None:\n",
    "        return None\n",
    "    p1 = root\n",
    "    p2 = root\n",
    "    for _ in range(k):\n",
    "        p1 = p1.next\n",
    "    while p1 != None:\n",
    "        p1 = p1.next\n",
    "        p2 = p2.next\n",
    "    return p2"
   ]
  },
  {
   "cell_type": "code",
   "execution_count": 24,
   "id": "c6f84cbf-521f-4542-8cd0-a3a68ecd3425",
   "metadata": {
    "tags": []
   },
   "outputs": [
    {
     "name": "stdout",
     "output_type": "stream",
     "text": [
      "3 3 7 "
     ]
    }
   ],
   "source": [
    "printLink(kthtoLast3(head, 3))"
   ]
  },
  {
   "cell_type": "code",
   "execution_count": 25,
   "id": "7a35d13f-db18-4ea5-9447-d48668dcb436",
   "metadata": {
    "tags": []
   },
   "outputs": [
    {
     "name": "stdout",
     "output_type": "stream",
     "text": [
      "Successfully added to the comment list\n"
     ]
    }
   ],
   "source": [
    "z.new(\"Delete Middle Node\")"
   ]
  },
  {
   "cell_type": "markdown",
   "id": "82c9963d-52e5-4dcf-acf3-451057faa5a8",
   "metadata": {},
   "source": [
    "## Delete Middle Node"
   ]
  },
  {
   "cell_type": "code",
   "execution_count": 26,
   "id": "0ab6779c-7330-4dc2-a739-63374c43b6c1",
   "metadata": {
    "tags": []
   },
   "outputs": [
    {
     "name": "stdout",
     "output_type": "stream",
     "text": [
      "4 5 4 3 3 7 "
     ]
    }
   ],
   "source": [
    "printLink(head)"
   ]
  },
  {
   "cell_type": "code",
   "execution_count": 27,
   "id": "56f656dd-ad37-41d7-8b45-e0f447ed21fe",
   "metadata": {
    "tags": []
   },
   "outputs": [
    {
     "name": "stdout",
     "output_type": "stream",
     "text": [
      "4 5 6 7 8 9 "
     ]
    }
   ],
   "source": [
    "# create a linkedlist\n",
    "head = Node(4)\n",
    "head.next = Node(5)\n",
    "head.next.next = Node(6)\n",
    "head.next.next.next = Node(7)\n",
    "head.next.next.next.next = Node(8)\n",
    "head.next.next.next.next.next = Node(9)\n",
    "printLink(head)"
   ]
  },
  {
   "cell_type": "code",
   "execution_count": 28,
   "id": "ba781740-0164-483a-bae5-917b344110e6",
   "metadata": {
    "tags": []
   },
   "outputs": [],
   "source": [
    "def delMidNode1(root):\n",
    "    if root == None: return None\n",
    "    slow = root\n",
    "    fast = root.next\n",
    "    while fast.next != None:\n",
    "        prev = slow\n",
    "        slow = slow.next\n",
    "        fast = fast.next.next\n",
    "    prev.next = slow.next\n",
    "    return root"
   ]
  },
  {
   "cell_type": "code",
   "execution_count": 29,
   "id": "90c83845-e3eb-45ea-9c04-2d3a63d2937a",
   "metadata": {
    "tags": []
   },
   "outputs": [
    {
     "name": "stdout",
     "output_type": "stream",
     "text": [
      "4 5 7 8 9 "
     ]
    }
   ],
   "source": [
    "printLink(delMidNode1(head))"
   ]
  },
  {
   "cell_type": "code",
   "execution_count": 30,
   "id": "12fc6d51-402e-46e8-a67c-83cb62f43f34",
   "metadata": {
    "tags": []
   },
   "outputs": [
    {
     "name": "stdout",
     "output_type": "stream",
     "text": [
      "Successfully added to the comment list\n"
     ]
    }
   ],
   "source": [
    "z.new(\"Partition\")"
   ]
  },
  {
   "cell_type": "markdown",
   "id": "ba9b3575-20ef-4925-afa6-161a29a88625",
   "metadata": {
    "tags": []
   },
   "source": [
    "## Partition"
   ]
  },
  {
   "cell_type": "code",
   "execution_count": 31,
   "id": "31bfdf62-1665-4b78-a966-98dbc8263318",
   "metadata": {
    "tags": []
   },
   "outputs": [],
   "source": [
    "def partition(root, x):\n",
    "    head = root\n",
    "    tail = root\n",
    "    while (root != None):\n",
    "        Next = root.next\n",
    "        if root.data < x:\n",
    "            # insert node at head\n",
    "            head.next = root\n",
    "            head = root\n",
    "        else:\n",
    "            # insert node at tail\n",
    "            tail.next = root\n",
    "            tail = root\n",
    "        root = Next\n",
    "    tail.next = None\n",
    "    return head"
   ]
  },
  {
   "cell_type": "code",
   "execution_count": 32,
   "id": "b24dd025-8e9d-4a50-8da3-adcd211e1a10",
   "metadata": {
    "tags": []
   },
   "outputs": [
    {
     "name": "stdin",
     "output_type": "stream",
     "text": [
      "Enter data ('%' to stop):  %\n"
     ]
    }
   ],
   "source": [
    "root = create_linked_list()"
   ]
  },
  {
   "cell_type": "code",
   "execution_count": 35,
   "id": "6425b259-8f02-4156-9621-f83111d7ed2e",
   "metadata": {
    "tags": []
   },
   "outputs": [],
   "source": [
    "printLink(root)"
   ]
  },
  {
   "cell_type": "code",
   "execution_count": 36,
   "id": "7c849f59-88fe-4049-95c2-bcb39004ac0e",
   "metadata": {
    "tags": []
   },
   "outputs": [
    {
     "ename": "AttributeError",
     "evalue": "'NoneType' object has no attribute 'next'",
     "output_type": "error",
     "traceback": [
      "\u001b[1;31m---------------------------------------------------------------------------\u001b[0m",
      "\u001b[1;31mAttributeError\u001b[0m                            Traceback (most recent call last)",
      "Cell \u001b[1;32mIn[36], line 1\u001b[0m\n\u001b[1;32m----> 1\u001b[0m printLink(\u001b[43mpartition\u001b[49m\u001b[43m(\u001b[49m\u001b[43mroot\u001b[49m\u001b[43m,\u001b[49m\u001b[38;5;241;43m5\u001b[39;49m\u001b[43m)\u001b[49m)\n",
      "Cell \u001b[1;32mIn[31], line 15\u001b[0m, in \u001b[0;36mpartition\u001b[1;34m(root, x)\u001b[0m\n\u001b[0;32m     13\u001b[0m         tail \u001b[38;5;241m=\u001b[39m root\n\u001b[0;32m     14\u001b[0m     root \u001b[38;5;241m=\u001b[39m Next\n\u001b[1;32m---> 15\u001b[0m \u001b[43mtail\u001b[49m\u001b[38;5;241;43m.\u001b[39;49m\u001b[43mnext\u001b[49m \u001b[38;5;241m=\u001b[39m \u001b[38;5;28;01mNone\u001b[39;00m\n\u001b[0;32m     16\u001b[0m \u001b[38;5;28;01mreturn\u001b[39;00m head\n",
      "\u001b[1;31mAttributeError\u001b[0m: 'NoneType' object has no attribute 'next'"
     ]
    }
   ],
   "source": [
    "printLink(partition(root,5))"
   ]
  },
  {
   "cell_type": "code",
   "execution_count": 37,
   "id": "6c661be0-a1fe-43f8-ab07-f7c7999ab5b6",
   "metadata": {
    "tags": []
   },
   "outputs": [
    {
     "name": "stdout",
     "output_type": "stream",
     "text": [
      "Successfully added to the comment list\n"
     ]
    }
   ],
   "source": [
    "z.new(\"Sum List\")"
   ]
  },
  {
   "cell_type": "markdown",
   "id": "9945240f-b64c-49d7-9936-7a73a6d37053",
   "metadata": {},
   "source": [
    "## Sum List"
   ]
  },
  {
   "cell_type": "code",
   "execution_count": 38,
   "id": "5fea9b7f-4dd9-4288-97c0-ce2733eb2d47",
   "metadata": {
    "tags": []
   },
   "outputs": [],
   "source": [
    "# convert into number and perform sum and convert back to linkedlist\n",
    "def linkedTOArray(root):\n",
    "    arr = []\n",
    "    if root == None:\n",
    "        return None\n",
    "    curr = root\n",
    "    while curr != None:\n",
    "        arr.append(curr.data)\n",
    "        curr = curr.next\n",
    "    return arr\n",
    "def sumList1(root1, root2):\n",
    "    num1 = [str(i) for i in linkedTOArray(root1)]\n",
    "    num2 = [str(i) for i in linkedTOArray(root2)]\n",
    "    arr1 = \"\".join(num1)\n",
    "    arr2 = \"\".join(num2)\n",
    "    \n",
    "    return int(arr1) + int(arr2)"
   ]
  },
  {
   "cell_type": "code",
   "execution_count": 39,
   "id": "2caec4ef-14f5-4c9f-ac49-010fa60ebdfc",
   "metadata": {
    "tags": []
   },
   "outputs": [
    {
     "name": "stdout",
     "output_type": "stream",
     "text": [
      "Inserting value 6\n",
      "Inserting value 1\n",
      "Inserting value 7\n",
      "Inserting value 2\n",
      "Inserting value 9\n",
      "Inserting value 5\n"
     ]
    }
   ],
   "source": [
    "root1 = create_linked_list_from_arr([6,1,7])\n",
    "root2 = create_linked_list_from_arr([2,9,5])"
   ]
  },
  {
   "cell_type": "code",
   "execution_count": 40,
   "id": "625e3311-4d13-4464-80dc-e47eff01aee6",
   "metadata": {
    "tags": []
   },
   "outputs": [
    {
     "data": {
      "text/plain": [
       "912"
      ]
     },
     "execution_count": 40,
     "metadata": {},
     "output_type": "execute_result"
    }
   ],
   "source": [
    "sumList1(root1, root2)"
   ]
  },
  {
   "cell_type": "code",
   "execution_count": 96,
   "id": "a892e4e4-885d-408f-93fb-703124e161df",
   "metadata": {},
   "outputs": [],
   "source": [
    "def sumlist2(root1, root2):\n",
    "    def addLists(root1, root2, carry):\n",
    "        # lets thik about the base case\n",
    "        if root1 == None and root2 == None and carry == 0: return None\n",
    "        result = Node(0)\n",
    "        value = carry\n",
    "        # print(root1.data)\n",
    "        # print(root2.data)\n",
    "        if root1 != None: value += root1.data\n",
    "        if root1 != None: value += root2.data\n",
    "        # if the value has 2 digit then append only the 2nd digit\n",
    "        result.data = value % 10 # store the 2nd digit\n",
    "        # recursice now\n",
    "        if root1 != None or root2 != None:\n",
    "            more = addLists(None if root1 == None else root1.next,\n",
    "                            None if root2 == None else root2.next,\n",
    "                            1 if value >= 10 else 0)\n",
    "            printLink(more)\n",
    "            result.next = more\n",
    "        return result\n",
    "    return addLists(root1,root2,0)"
   ]
  },
  {
   "cell_type": "code",
   "execution_count": 97,
   "id": "4eb54bd5-d631-4bcc-a1f1-310bff0938c7",
   "metadata": {
    "tags": []
   },
   "outputs": [
    {
     "name": "stdout",
     "output_type": "stream",
     "text": [
      "6 1 7 "
     ]
    }
   ],
   "source": [
    "printLink(root1)"
   ]
  },
  {
   "cell_type": "code",
   "execution_count": 98,
   "id": "d4d53c94-cd14-4ef9-ab39-bf61d3233759",
   "metadata": {
    "tags": []
   },
   "outputs": [
    {
     "name": "stdout",
     "output_type": "stream",
     "text": [
      "2 9 5 "
     ]
    }
   ],
   "source": [
    "printLink(root2)"
   ]
  },
  {
   "cell_type": "code",
   "execution_count": 99,
   "id": "fc609f09-37dc-45fd-a313-72fe141672f0",
   "metadata": {
    "tags": []
   },
   "outputs": [
    {
     "name": "stdout",
     "output_type": "stream",
     "text": [
      "8 0 3 1 "
     ]
    }
   ],
   "source": [
    "printLink(sumlist2(root1, root2))"
   ]
  },
  {
   "cell_type": "code",
   "execution_count": 100,
   "id": "bcb5be92-665f-49b9-8f9f-786e93a942e5",
   "metadata": {
    "tags": []
   },
   "outputs": [],
   "source": [
    "def addLists(root1, root2, carry):\n",
    "    # lets thik about the base case\n",
    "    if root1 == None and root2 == None and carry == 0: return None\n",
    "    result = Node(0)\n",
    "    value = carry\n",
    "    # print(root1.data)\n",
    "    # print(root2.data)\n",
    "    if root1 != None: value += root1.data\n",
    "    if root1 != None: value += root2.data\n",
    "    # if the value has 2 digit then append only the 2nd digit\n",
    "    result.data = value % 10 # store the 2nd digit\n",
    "    # recursice now\n",
    "    if root1 != None or root2 != None:\n",
    "        more = addLists(None if root1 == None else root1.next,\n",
    "                        None if root2 == None else root2.next,\n",
    "                        1 if value >= 10 else 0)\n",
    "        # printLink(more)\n",
    "        result.next = more\n",
    "    return result"
   ]
  },
  {
   "cell_type": "code",
   "execution_count": 102,
   "id": "9ef0b05d-a112-45ab-beff-bf095f3fa803",
   "metadata": {
    "tags": []
   },
   "outputs": [
    {
     "name": "stdout",
     "output_type": "stream",
     "text": [
      "8 0 3 1 "
     ]
    }
   ],
   "source": [
    "printLinkaddLists(root1, root2, 0)"
   ]
  },
  {
   "cell_type": "code",
   "execution_count": null,
   "id": "0f07fb75-11ab-42b9-b71b-773baec29ebc",
   "metadata": {},
   "outputs": [],
   "source": []
  }
 ],
 "metadata": {
  "kernelspec": {
   "display_name": "Python 3 (ipykernel)",
   "language": "python",
   "name": "python3"
  },
  "language_info": {
   "codemirror_mode": {
    "name": "ipython",
    "version": 3
   },
   "file_extension": ".py",
   "mimetype": "text/x-python",
   "name": "python",
   "nbconvert_exporter": "python",
   "pygments_lexer": "ipython3",
   "version": "3.10.10"
  }
 },
 "nbformat": 4,
 "nbformat_minor": 5
}
