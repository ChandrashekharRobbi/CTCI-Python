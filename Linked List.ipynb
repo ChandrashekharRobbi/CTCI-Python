{
 "cells": [
  {
   "cell_type": "code",
   "execution_count": 3,
   "id": "aadadfac-48f5-40d6-bc67-d4e2c534b51b",
   "metadata": {
    "tags": []
   },
   "outputs": [
    {
     "name": "stdout",
     "output_type": "stream",
     "text": [
      "Note that after executing new function your next cell will automatically converted to markdown cell :)\n"
     ]
    }
   ],
   "source": [
    "%run imp_personal.py\n",
    "z = MyFunction()"
   ]
  },
  {
   "cell_type": "markdown",
   "id": "7a76c6c0-337d-40f2-b171-3f4450f0e28b",
   "metadata": {},
   "source": [
    "# LinkedList\n",
    "\n",
    "## Time Complexity\n",
    "\n",
    "<img src=\"img/graph of complexity.png\" width=\"700px\" height=\"700px\"/>\n",
    "\n",
    "## Singly Linked List 7 Doubly Linked List\n",
    "|Operations|Worst Case|Average Case|\n",
    "|:------|:--------:|:-------:|\n",
    "|Insertion|$O(1)$|$θ(1)$|\n",
    "|Deletion|$O(1)$|$θ(1)$|\n",
    "|Searching|$O(n)$|$θ(n)$|\n",
    "|Access|$O(n)$|$θ(n)$|\n",
    "\n",
    "## Space Complexity:\n",
    "Worst Case --> $O(n)$"
   ]
  },
  {
   "cell_type": "code",
   "execution_count": 4,
   "id": "cc70f02d-3645-4e72-af62-2e3838b2daa4",
   "metadata": {},
   "outputs": [
    {
     "name": "stdout",
     "output_type": "stream",
     "text": [
      "Successfully added to the comment list\n"
     ]
    }
   ],
   "source": [
    "z.new(\"Creating the node\")"
   ]
  },
  {
   "cell_type": "markdown",
   "id": "04bb9fee-8f46-4f7f-9e0d-e46ae1134915",
   "metadata": {},
   "source": [
    "## Creating the node"
   ]
  },
  {
   "cell_type": "code",
   "execution_count": 5,
   "id": "2ae2455e-b39e-4568-92d7-e5761105a051",
   "metadata": {
    "tags": []
   },
   "outputs": [],
   "source": [
    "class Node:\n",
    "    def __init__(self, data):\n",
    "        self.data = data\n",
    "        self.next = None"
   ]
  },
  {
   "cell_type": "code",
   "execution_count": 6,
   "id": "201b0db6-2a7d-49e5-8174-811f4428f03b",
   "metadata": {
    "tags": []
   },
   "outputs": [
    {
     "name": "stdout",
     "output_type": "stream",
     "text": [
      "Successfully added to the comment list\n"
     ]
    }
   ],
   "source": [
    "z.new(\"Append to End \")"
   ]
  },
  {
   "cell_type": "markdown",
   "id": "948396de-9372-493e-bc52-4f71dea5b2d2",
   "metadata": {},
   "source": [
    "## Append to End "
   ]
  },
  {
   "cell_type": "code",
   "execution_count": null,
   "id": "d0e00e26-2b60-4d19-a953-99919ce92113",
   "metadata": {},
   "outputs": [],
   "source": [
    "def appendToTail(head, data):\n",
    "    if head == None: return Node(data)\n",
    "    curr = head\n",
    "    while curr.next != None:\n",
    "        "
   ]
  }
 ],
 "metadata": {
  "kernelspec": {
   "display_name": "Python 3 (ipykernel)",
   "language": "python",
   "name": "python3"
  },
  "language_info": {
   "codemirror_mode": {
    "name": "ipython",
    "version": 3
   },
   "file_extension": ".py",
   "mimetype": "text/x-python",
   "name": "python",
   "nbconvert_exporter": "python",
   "pygments_lexer": "ipython3",
   "version": "3.10.10"
  }
 },
 "nbformat": 4,
 "nbformat_minor": 5
}
