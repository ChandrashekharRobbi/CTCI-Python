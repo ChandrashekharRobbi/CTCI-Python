{
 "cells": [
  {
   "cell_type": "code",
   "execution_count": 1,
   "id": "aadadfac-48f5-40d6-bc67-d4e2c534b51b",
   "metadata": {
    "tags": []
   },
   "outputs": [
    {
     "name": "stdout",
     "output_type": "stream",
     "text": [
      "Note that after executing new function your next cell will automatically converted to markdown cell :)\n"
     ]
    }
   ],
   "source": [
    "%run imp_personal.py\n",
    "z = MyFunction()"
   ]
  },
  {
   "cell_type": "markdown",
   "id": "7a76c6c0-337d-40f2-b171-3f4450f0e28b",
   "metadata": {},
   "source": [
    "# LinkedList\n",
    "\n",
    "## Time Complexity\n",
    "\n",
    "<img src=\"img/graph of complexity.png\" width=\"700px\" height=\"700px\"/>\n",
    "\n",
    "## Singly Linked List 7 Doubly Linked List\n",
    "|Operations|Worst Case|Average Case|\n",
    "|:------|:--------:|:-------:|\n",
    "|Insertion|$O(1)$|$θ(1)$|\n",
    "|Deletion|$O(1)$|$θ(1)$|\n",
    "|Searching|$O(n)$|$θ(n)$|\n",
    "|Access|$O(n)$|$θ(n)$|\n",
    "\n",
    "## Space Complexity:\n",
    "Worst Case --> $O(n)$"
   ]
  },
  {
   "cell_type": "markdown",
   "id": "34def912-a6c0-4c5f-80f6-472b9785cac3",
   "metadata": {},
   "source": [
    "## Make the Below links clickable?\n",
    "[Click Me](https://nbviewer.org/github/ChandrashekharRobbi/CTCI-Python/blob/main/Linked%20List.ipynb?flush_cache=True)\n",
    "\n",
    "## Quick Links\n",
    "1. [Creating the node](#Creating-the-node)\n",
    "1. [Append to End ](#Append-to-End-)\n",
    "1. [Remove Dups](#Remove-Dups)"
   ]
  },
  {
   "cell_type": "markdown",
   "id": "04bb9fee-8f46-4f7f-9e0d-e46ae1134915",
   "metadata": {},
   "source": [
    "## Creating the node"
   ]
  },
  {
   "cell_type": "code",
   "execution_count": 3,
   "id": "2ae2455e-b39e-4568-92d7-e5761105a051",
   "metadata": {
    "tags": []
   },
   "outputs": [],
   "source": [
    "class Node:\n",
    "    def __init__(self, data):\n",
    "        self.data = data\n",
    "        self.next = None"
   ]
  },
  {
   "cell_type": "markdown",
   "id": "948396de-9372-493e-bc52-4f71dea5b2d2",
   "metadata": {},
   "source": [
    "## Append to End "
   ]
  },
  {
   "cell_type": "code",
   "execution_count": 5,
   "id": "d0e00e26-2b60-4d19-a953-99919ce92113",
   "metadata": {
    "tags": []
   },
   "outputs": [],
   "source": [
    "def appendToTail(head, data):\n",
    "    if head == None: return Node(data)\n",
    "    curr = head\n",
    "    while curr.next != None:\n",
    "        curr = curr.next\n",
    "    curr.next = Node(data)\n",
    "    return head"
   ]
  },
  {
   "cell_type": "markdown",
   "id": "8e475e38-c4df-456c-9adc-3eb0bd9d7691",
   "metadata": {
    "tags": []
   },
   "source": [
    "## Print the LinkedList"
   ]
  },
  {
   "cell_type": "code",
   "execution_count": null,
   "id": "ad341c9a-a811-416d-a483-589287d1f820",
   "metadata": {},
   "outputs": [],
   "source": [
    "def printLink(root):"
   ]
  },
  {
   "cell_type": "markdown",
   "id": "43feb857-6719-463b-bfed-3caa54bdb61b",
   "metadata": {},
   "source": [
    "## Remove Dups"
   ]
  },
  {
   "cell_type": "code",
   "execution_count": 12,
   "id": "2d8d7f73-8362-45af-a7ae-46a3f4b1a9a2",
   "metadata": {
    "tags": []
   },
   "outputs": [],
   "source": [
    "# create a linkedlist\n",
    "head = Node(4)\n",
    "head.next = Node(5)\n",
    "head.next.next = Node(4)\n",
    "head.next.next.next = Node(3)"
   ]
  },
  {
   "cell_type": "code",
   "execution_count": null,
   "id": "e3a94e8f-e0f8-461b-b4bf-406121824809",
   "metadata": {},
   "outputs": [],
   "source": []
  },
  {
   "cell_type": "code",
   "execution_count": 7,
   "id": "4300e1ae-6659-4c61-be1e-0717810b37c4",
   "metadata": {
    "tags": []
   },
   "outputs": [],
   "source": [
    "# if local buffer is allowed\n",
    "def removeDups1(head):\n",
    "    set_v = set()\n",
    "    previous = None\n",
    "    while head != None:\n",
    "        if head.data in set_v:\n",
    "            previous.next = head.next\n",
    "        else:\n",
    "            set.add(head.data)\n",
    "            previous = head\n",
    "        head = head.next\n",
    "    return previous"
   ]
  },
  {
   "cell_type": "code",
   "execution_count": 8,
   "id": "62941da7-fc29-459d-a291-a50d2dc52ae5",
   "metadata": {
    "tags": []
   },
   "outputs": [],
   "source": [
    "# if local buffer is not allowed\n",
    "def removeDups2(head):\n",
    "    curr = head\n",
    "    while curr != None:\n",
    "        runner = curr\n",
    "        while runner.next != None:\n",
    "            if runner.next.data == curr.data:\n",
    "                runner.next = runner.next.next\n",
    "            else:\n",
    "                runner = runner.next\n",
    "        curr = curr.next\n",
    "    return head"
   ]
  },
  {
   "cell_type": "code",
   "execution_count": null,
   "id": "d0be1b49-a65a-4f17-a256-0e645378eab4",
   "metadata": {},
   "outputs": [],
   "source": []
  }
 ],
 "metadata": {
  "kernelspec": {
   "display_name": "Python 3 (ipykernel)",
   "language": "python",
   "name": "python3"
  },
  "language_info": {
   "codemirror_mode": {
    "name": "ipython",
    "version": 3
   },
   "file_extension": ".py",
   "mimetype": "text/x-python",
   "name": "python",
   "nbconvert_exporter": "python",
   "pygments_lexer": "ipython3",
   "version": "3.10.10"
  }
 },
 "nbformat": 4,
 "nbformat_minor": 5
}
