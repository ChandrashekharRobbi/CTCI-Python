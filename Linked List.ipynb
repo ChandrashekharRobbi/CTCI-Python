{
 "cells": [
  {
   "cell_type": "markdown",
   "id": "7a76c6c0-337d-40f2-b171-3f4450f0e28b",
   "metadata": {},
   "source": [
    "# LinkedList\n",
    "\n",
    "## Time Complexity\n",
    "\n",
    "<img src=\"img/graph of complexity.png\" width=\"700px\" height=\"700px\"/>\n",
    "\n",
    "## Singly Linked List 7 Doubly Linked List\n",
    "|Operations|Worst Case|Average Case|\n",
    "|:------|:--------:|:-------:|\n",
    "|Insertion|$O(1)$|$θ(1)$|\n",
    "|Deletion|$O(1)$|$θ(1)$|\n",
    "|Searching|$O(n)$|$θ(n)$|\n",
    "|Access|$O(n)$|$θ(n)$|\n",
    "\n",
    "## Space Complexity:\n",
    "Worst Case --> $O(n)$"
   ]
  },
  {
   "cell_type": "code",
   "execution_count": null,
   "id": "cc70f02d-3645-4e72-af62-2e3838b2daa4",
   "metadata": {},
   "outputs": [],
   "source": []
  }
 ],
 "metadata": {
  "kernelspec": {
   "display_name": "Python 3 (ipykernel)",
   "language": "python",
   "name": "python3"
  },
  "language_info": {
   "codemirror_mode": {
    "name": "ipython",
    "version": 3
   },
   "file_extension": ".py",
   "mimetype": "text/x-python",
   "name": "python",
   "nbconvert_exporter": "python",
   "pygments_lexer": "ipython3",
   "version": "3.10.10"
  }
 },
 "nbformat": 4,
 "nbformat_minor": 5
}
